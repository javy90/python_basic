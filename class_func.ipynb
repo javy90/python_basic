{
 "cells": [
  {
   "cell_type": "code",
   "execution_count": 6,
   "id": "96a65180",
   "metadata": {},
   "outputs": [
    {
     "name": "stdout",
     "output_type": "stream",
     "text": [
      "이름 성적 입력 (종료는 'q'): a 1 2 3\n",
      "이름 성적 입력 (종료는 'q'): a 1 2 3\n",
      "이름 성적 입력 (종료는 'q'): q\n",
      "총 학생수 :  2\n",
      "------학생 목록--------\n",
      "이름\t총점\t평균\n",
      "a\t6\t2.00\n",
      "a\t6\t2.00\n",
      "---------------------\n"
     ]
    }
   ],
   "source": [
    "class Student:\n",
    "    # 클래스 변수\n",
    "    count = 0\n",
    "    students = []    \n",
    "    \n",
    "    # 클래스 함수 클래스에서는 =,<,>,!등의 의미를 달리할 수 있다\n",
    "    @classmethod #클래스 전제 공동으로 사용하는 함수\n",
    "    def print(cls): # self 함수 = cls\n",
    "        print(\"------학생 목록--------\")\n",
    "        print(\"이름\\t총점\\t평균\")\n",
    "        for student in cls.students:\n",
    "            print(str(student))\n",
    "        print('---------------------')\n",
    "        \n",
    "    def __init__(self, name, kor,eng, math):\n",
    "        self.name = name\n",
    "        self.kor = kor\n",
    "        self.eng = eng\n",
    "        self.math = math \n",
    "        Student.count += 1\n",
    "        Student.students.append(self)\n",
    "        \n",
    "    def get_sum(self):\n",
    "        return self.kor + self.eng + self.math\n",
    "    def get_avg(self):\n",
    "        return self.get_sum() / 3    \n",
    "    def __str__(self):\n",
    "        return \"{}\\t{}\\t{:3.2f}\".format(self.name, self.get_sum(),self.get_avg())    \n",
    "\n",
    "def input_data():\n",
    "#     global students\n",
    "    while True:\n",
    "        input_data = input(\"이름 성적 입력 (종료는 'q'): \").split()\n",
    "        if input_data[0] == 'q':\n",
    "            break\n",
    "        elif len(input_data) < 4:\n",
    "            continue\n",
    "        elif not input_data[1].isdigit():\n",
    "            continue\n",
    "\n",
    "        Student(input_data[0], int(input_data[1]), \n",
    "              int(input_data[2]), int(input_data[3]))\n",
    "\n",
    "input_data()\n",
    "print(\"총 학생수 : \", Student.count)\n",
    "\n",
    "Student.print()"
   ]
  },
  {
   "cell_type": "code",
   "execution_count": 5,
   "id": "de682ac8",
   "metadata": {},
   "outputs": [
    {
     "ename": "SyntaxError",
     "evalue": "invalid syntax (Temp/ipykernel_13484/4173515936.py, line 2)",
     "output_type": "error",
     "traceback": [
      "\u001b[1;36m  File \u001b[1;32m\"C:\\Users\\82103\\AppData\\Local\\Temp/ipykernel_13484/4173515936.py\"\u001b[1;36m, line \u001b[1;32m2\u001b[0m\n\u001b[1;33m    1. 학생들의 이름, 국어 영어, 수학성적을 입력 받아 리스트에 저장한 후\u001b[0m\n\u001b[1;37m       ^\u001b[0m\n\u001b[1;31mSyntaxError\u001b[0m\u001b[1;31m:\u001b[0m invalid syntax\n"
     ]
    }
   ],
   "source": [
    "#과제\n",
    "# 1. 학생들의 이름, 국어 영어, 수학성적을 입력 받아 리스트에 저장한 후\n",
    "# 2. 입력이 종료되면 리스트의 내용을 출력\n",
    "# 3. 이름을 입력받아 리스트의 내용 중 같은 이름의 자료가 존재하면\n",
    "#     이름, 총점, 평균을 출력하고,\n",
    "#     업으면 자료 없음이라고 출력\n",
    "# 4. 입력된 학생들의 인원수가 10명 미만이면 추가 입력\n",
    "# 5.총점의 점수가 가장 작은 학생의 이름, 국어, 영어 ,수학 점수 출력\n",
    "# 6.전체 학생의 이름, 총점, 평균을 출력(점수가 높은 순서대로)\n",
    "# class 변수, class 함수, class Student 사용"
   ]
  },
  {
   "cell_type": "code",
   "execution_count": null,
   "id": "3226c944",
   "metadata": {},
   "outputs": [],
   "source": []
  }
 ],
 "metadata": {
  "kernelspec": {
   "display_name": "Python 3 (ipykernel)",
   "language": "python",
   "name": "python3"
  },
  "language_info": {
   "codemirror_mode": {
    "name": "ipython",
    "version": 3
   },
   "file_extension": ".py",
   "mimetype": "text/x-python",
   "name": "python",
   "nbconvert_exporter": "python",
   "pygments_lexer": "ipython3",
   "version": "3.9.7"
  }
 },
 "nbformat": 4,
 "nbformat_minor": 5
}
