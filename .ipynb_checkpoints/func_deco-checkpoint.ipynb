{
 "cells": [
  {
   "cell_type": "code",
   "execution_count": 5,
   "id": "31644b3b",
   "metadata": {},
   "outputs": [
    {
     "name": "stdout",
     "output_type": "stream",
     "text": [
      "hello\n"
     ]
    }
   ],
   "source": [
    "#함수 데코레이터\n",
    "def test(function):\n",
    "    def wrapper():\n",
    "        print(\"함수 시작\")\n",
    "        function()\n",
    "        print(\"함수 종료\")\n",
    "    return wrapper\n",
    "\n",
    "#데코레이터 함수정의\n",
    "@test #@가 들어가면 데코 @함수명 데코레이터를 먼저실행\n",
    "def hello():\n",
    "    print(\"hello\")\n",
    "# 함수 호출\n",
    "hello()\n"
   ]
  },
  {
   "cell_type": "code",
   "execution_count": null,
   "id": "d2dd70f7",
   "metadata": {},
   "outputs": [],
   "source": []
  }
 ],
 "metadata": {
  "kernelspec": {
   "display_name": "Python 3 (ipykernel)",
   "language": "python",
   "name": "python3"
  },
  "language_info": {
   "codemirror_mode": {
    "name": "ipython",
    "version": 3
   },
   "file_extension": ".py",
   "mimetype": "text/x-python",
   "name": "python",
   "nbconvert_exporter": "python",
   "pygments_lexer": "ipython3",
   "version": "3.9.7"
  }
 },
 "nbformat": 4,
 "nbformat_minor": 5
}
