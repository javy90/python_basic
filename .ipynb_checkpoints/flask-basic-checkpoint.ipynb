{
 "cells": [
  {
   "cell_type": "code",
   "execution_count": 2,
   "id": "fa09c715",
   "metadata": {},
   "outputs": [],
   "source": [
    "from flask import Flask\n",
    "\n",
    "app = Flask(__name__) # name에 __넣어줘야함\n",
    "\n",
    "@app.route(\"/\")\n",
    "\n",
    "def hello():\n",
    "    return \"<h1>hello world</h1>\" #h1은 큰 글씨"
   ]
  },
  {
   "cell_type": "code",
   "execution_count": 3,
   "id": "6fe1eae9",
   "metadata": {},
   "outputs": [],
   "source": [
    "from flask import Flask\n",
    "\n",
    "app = Flask(__name__) # name에 __넣어줘야함\n",
    "\n",
    "@app.route(\"/\")\n",
    "\n",
    "def hello():\n",
    "    output = \"<p>웹 테스트\"\n",
    "    output += \"<p>test\"\n",
    "    return output"
   ]
  },
  {
   "cell_type": "code",
   "execution_count": null,
   "id": "34aaed0d",
   "metadata": {},
   "outputs": [],
   "source": []
  }
 ],
 "metadata": {
  "kernelspec": {
   "display_name": "Python 3 (ipykernel)",
   "language": "python",
   "name": "python3"
  },
  "language_info": {
   "codemirror_mode": {
    "name": "ipython",
    "version": 3
   },
   "file_extension": ".py",
   "mimetype": "text/x-python",
   "name": "python",
   "nbconvert_exporter": "python",
   "pygments_lexer": "ipython3",
   "version": "3.9.7"
  }
 },
 "nbformat": 4,
 "nbformat_minor": 5
}
