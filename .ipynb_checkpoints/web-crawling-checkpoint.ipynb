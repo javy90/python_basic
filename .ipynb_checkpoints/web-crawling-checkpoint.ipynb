{
 "cells": [
  {
   "cell_type": "code",
   "execution_count": 1,
   "id": "7a4800df",
   "metadata": {},
   "outputs": [
    {
     "name": "stdout",
     "output_type": "stream",
     "text": [
      "서울=>최저기온 :  9 최고기온 :  14\n",
      "인천=>최저기온 :  7 최고기온 :  12\n",
      "수원=>최저기온 :  8 최고기온 :  14\n",
      "파주=>최저기온 :  5 최고기온 :  14\n",
      "이천=>최저기온 :  7 최고기온 :  16\n",
      "평택=>최저기온 :  8 최고기온 :  15\n",
      "춘천=>최저기온 :  5 최고기온 :  14\n",
      "원주=>최저기온 :  8 최고기온 :  17\n",
      "강릉=>최저기온 :  7 최고기온 :  13\n",
      "대전=>최저기온 :  10 최고기온 :  17\n",
      "세종=>최저기온 :  10 최고기온 :  16\n",
      "홍성=>최저기온 :  9 최고기온 :  15\n",
      "청주=>최저기온 :  11 최고기온 :  17\n",
      "충주=>최저기온 :  7 최고기온 :  16\n",
      "영동=>최저기온 :  9 최고기온 :  18\n",
      "광주=>최저기온 :  10 최고기온 :  18\n",
      "목포=>최저기온 :  8 최고기온 :  13\n",
      "여수=>최저기온 :  10 최고기온 :  15\n",
      "순천=>최저기온 :  11 최고기온 :  18\n",
      "광양=>최저기온 :  11 최고기온 :  18\n",
      "나주=>최저기온 :  8 최고기온 :  17\n",
      "전주=>최저기온 :  9 최고기온 :  17\n",
      "군산=>최저기온 :  9 최고기온 :  14\n",
      "정읍=>최저기온 :  8 최고기온 :  16\n",
      "남원=>최저기온 :  9 최고기온 :  19\n",
      "고창=>최저기온 :  8 최고기온 :  14\n",
      "무주=>최저기온 :  7 최고기온 :  18\n",
      "부산=>최저기온 :  11 최고기온 :  16\n",
      "울산=>최저기온 :  10 최고기온 :  16\n",
      "창원=>최저기온 :  10 최고기온 :  16\n",
      "진주=>최저기온 :  9 최고기온 :  19\n",
      "거창=>최저기온 :  8 최고기온 :  19\n",
      "통영=>최저기온 :  9 최고기온 :  15\n",
      "대구=>최저기온 :  10 최고기온 :  19\n",
      "안동=>최저기온 :  8 최고기온 :  17\n",
      "포항=>최저기온 :  10 최고기온 :  15\n",
      "경주=>최저기온 :  10 최고기온 :  17\n",
      "울진=>최저기온 :  7 최고기온 :  11\n",
      "울릉도=>최저기온 :  7 최고기온 :  11\n",
      "제주=>최저기온 :  12 최고기온 :  16\n",
      "서귀포=>최저기온 :  12 최고기온 :  18\n"
     ]
    }
   ],
   "source": [
    "from urllib import request\n",
    "from bs4 import BeautifulSoup\n",
    "url = \"https://www.weather.go.kr/w/weather/forecast/mid-term.do\"\n",
    "soup = request.urlopen(url)\n",
    "data = BeautifulSoup(soup)\n",
    "# data\n",
    "\n",
    "for table in data.findAll('table', class_='table-col'):\n",
    "#     print(table)\n",
    "    for line in table.findAll('tr'):\n",
    "\n",
    "        if line.find('td',class_=\"midterm-city\"):\n",
    "            print(line.find('td',class_=\"midterm-city\").get_text(),end='=>')\n",
    "            print(\"최저기온 : \",line.find('span',class_=\"tmn\").get_text(),end='')\n",
    "            print(\" 최고기온 : \",line.find('span',class_=\"tmx\").get_text())"
   ]
  },
  {
   "cell_type": "code",
   "execution_count": 19,
   "id": "30a50327",
   "metadata": {},
   "outputs": [],
   "source": [
    "# API를 활용한 MEB 자료 검색\n",
    "import requests"
   ]
  },
  {
   "cell_type": "code",
   "execution_count": 20,
   "id": "2aedab27",
   "metadata": {},
   "outputs": [],
   "source": [
    "text='''Yesterday\n",
    "All my troubles seemed so far away\n",
    "Now it looks as though they're here to stay\n",
    "Oh, I believe in yesterday\n",
    "Suddenly\n",
    "I'm not half the man I used to be\n",
    "There's a shadow hanging over me\n",
    "Oh, yesterday came suddenly\n",
    "Why she had to go, I don't know\n",
    "She wouldn't say\n",
    "I said something wrong\n",
    "Now I long for yesterday\n",
    "Yesterday\n",
    "Love was such an easy game to play\n",
    "Now I need a place to hide away\n",
    "Oh, I believe in yesterday\n",
    "Why she'''"
   ]
  },
  {
   "cell_type": "code",
   "execution_count": 26,
   "id": "57105a3d",
   "metadata": {},
   "outputs": [
    {
     "data": {
      "text/plain": [
       "'어제,\\n내 모든 시름들이 멀리 사라져버린듯 했다\\n이제 그들은 여기 머무르러 온 것처럼 보인다.\\n오, 나는 어제를 다시 그리게 돼.\\n갑자기\\n예전의 나의 반도 안 되는구나.\\n그림자가 드리워져 있어요\\n오, 어제가 갑자기 왔다.\\n왜 그녀가 가야만 했는지 모르겠어\\n그녀는 말하지 않았다.\\n내가 잘못 말했어.\\n이제 나는 어제가 그립다.\\n어제,\\n사랑은 정말 하기 쉬운 게임이었다.\\n이제 숨을 곳이 필요해\\n오, 나는 어제를 다시 그리게 돼.\\n왜그녀'"
      ]
     },
     "execution_count": 26,
     "metadata": {},
     "output_type": "execute_result"
    }
   ],
   "source": [
    "url = \"https://openapi.naver.com/v1/papago/n2mt\"\n",
    "headers = {\"X-Naver-Client-Id\": \"YwamEzlDEKmb56qEt0HL\",\n",
    "           \"X-Naver-Client-Secret\": \"SV4HRYIaOI\"}\n",
    "params = {'source':'en', 'target':'ko', 'text':text}\n",
    "response = requests.post(url, headers=headers, data=params)\n",
    "#?~ get방식 ex)url? id=~ class=~ or post방식으로 id/pw를 가지고 다님\n",
    "result = response.json() #str -> json타입으로 변경 json 딕셔너리방식으로 사용\n",
    "#response.txt()으로 딕셔너리 형태로 저장도 가능\n",
    "out_data = result['message']['result']['translatedText']\n",
    "\n",
    "#정보를 가져오는 방식은 api 혹은 직접url로 가져올 수 있다\n",
    "# print(type(response.text))\n",
    "#"
   ]
  },
  {
   "cell_type": "code",
   "execution_count": null,
   "id": "d2da25e0",
   "metadata": {},
   "outputs": [],
   "source": []
  }
 ],
 "metadata": {
  "kernelspec": {
   "display_name": "Python 3 (ipykernel)",
   "language": "python",
   "name": "python3"
  },
  "language_info": {
   "codemirror_mode": {
    "name": "ipython",
    "version": 3
   },
   "file_extension": ".py",
   "mimetype": "text/x-python",
   "name": "python",
   "nbconvert_exporter": "python",
   "pygments_lexer": "ipython3",
   "version": "3.9.7"
  }
 },
 "nbformat": 4,
 "nbformat_minor": 5
}
