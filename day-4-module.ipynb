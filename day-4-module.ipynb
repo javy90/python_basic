{
 "cells": [
  {
   "cell_type": "code",
   "execution_count": null,
   "id": "0da6d4ab",
   "metadata": {},
   "outputs": [],
   "source": [
    "# 표준 모듈(help-파이썬 레퍼런스에서 검색) 과 외부 모듈\n",
    "#모듈삽입은 import 모듈명 [as alias명] []는 생략 가능함을 의미\n",
    "import math"
   ]
  },
  {
   "cell_type": "code",
   "execution_count": null,
   "id": "ad78b173",
   "metadata": {},
   "outputs": [],
   "source": [
    "#모듈에 있는 함수 또는 변수 사용 : 모듈명.함수() tab키활용\n",
    "print(math.sin(1))\n",
    "print(math.cos(1))\n"
   ]
  },
  {
   "cell_type": "code",
   "execution_count": null,
   "id": "3cc15440",
   "metadata": {},
   "outputs": [],
   "source": [
    "from math import sin,cos,log\n",
    "\n",
    "print(sin(1), cos(1), log(2))"
   ]
  },
  {
   "cell_type": "code",
   "execution_count": null,
   "id": "436b3f21",
   "metadata": {},
   "outputs": [],
   "source": [
    "from datetime import datetime #from 뒤에는 모듈이나 패키지만 올 수 있음\n",
    "\n",
    "datetime.now()\n",
    "print(type(datetime))"
   ]
  },
  {
   "cell_type": "code",
   "execution_count": null,
   "id": "b5137a8f",
   "metadata": {},
   "outputs": [],
   "source": [
    "from sklearn.preprocessing import train_\n",
    "\n",
    "datetime.now()\n",
    "print(type(datetime))"
   ]
  },
  {
   "cell_type": "code",
   "execution_count": null,
   "id": "286c4a65",
   "metadata": {},
   "outputs": [],
   "source": [
    "import random\n",
    "\n",
    "random.sample(range(10), 5)"
   ]
  },
  {
   "cell_type": "code",
   "execution_count": null,
   "id": "ee92a78a",
   "metadata": {},
   "outputs": [],
   "source": [
    "import datetime\n",
    "datetime.datetime.now()"
   ]
  },
  {
   "cell_type": "code",
   "execution_count": null,
   "id": "cd7fe5d3",
   "metadata": {},
   "outputs": [],
   "source": [
    "import random\n",
    "\n",
    "print(\"- random():\", random.random())\n",
    "\n",
    "print(\"- uniform():\",random.uniform(10,20)) # 10에서 20사이의 임의의 수 출력\n",
    "\n",
    "print(\"- randrange(10):\",random.randrange(10))\n",
    "      \n",
    "print(\"- choice(2,4,5,6,7):\",random.choice([2,4,5,6,7]))\n",
    "\n",
    "print(\"-shuffle(2,4,5,6,7):\",random.shuffle([2,4,5,6,7])) #섞기만 하고 출력은 안함 값이 변동되서?\n",
    "\n",
    "print(\"-sample(2,4,5,6,7):\",random.sample([2,4,5,6,7],k=2))"
   ]
  },
  {
   "cell_type": "code",
   "execution_count": null,
   "id": "df49becb",
   "metadata": {},
   "outputs": [],
   "source": [
    "import sys\n",
    "\n",
    "print(sys.argv)\n",
    "\n",
    "print(\"getwindowsversion()\",sys.getwindowsversion())\n",
    "print(\"copyright()\",sys.copyright)\n",
    "print(\"version()\",sys.version)"
   ]
  },
  {
   "cell_type": "code",
   "execution_count": null,
   "id": "511872fe",
   "metadata": {},
   "outputs": [],
   "source": [
    "# import os : 운영체제 관련 명령어 모듈\n",
    "import os\n",
    "\n",
    "print(os.name)\n",
    "print(os.getcwd())\n",
    "print(os.listdir())\n",
    "\n",
    "print()\n",
    "print(os.system(\"dir ./\")) #os,system(커맨드명령어)\n",
    "!dir #!커맨드명령어"
   ]
  },
  {
   "cell_type": "code",
   "execution_count": null,
   "id": "6ef798ad",
   "metadata": {},
   "outputs": [],
   "source": [
    "!dir #!커맨드명령어\n",
    "!cd"
   ]
  },
  {
   "cell_type": "code",
   "execution_count": null,
   "id": "8e4e1577",
   "metadata": {},
   "outputs": [],
   "source": [
    "#소스 불러오기 %load 파일명\n",
    "# %load module_text.py\n",
    "import sys\n",
    "print(sys.argv)\n",
    "\n",
    "#작업하고 있는 디렉토리 확인\n"
   ]
  },
  {
   "cell_type": "code",
   "execution_count": null,
   "id": "1dcf67b6",
   "metadata": {},
   "outputs": [],
   "source": [
    "import time\n",
    "\n",
    "print(\"start\")\n",
    "time.sleep(2)\n",
    "print('end')"
   ]
  },
  {
   "cell_type": "code",
   "execution_count": null,
   "id": "d1c904b5",
   "metadata": {},
   "outputs": [],
   "source": [
    "#urllib 모듈 : request -> 웹주소로부터 데이터를 가져올 수 있도록 제공되는 모듈\n",
    "from urllib import request\n",
    "\n",
    "target = request.urlopen(\"https://www.google.com\")\n",
    "output = target.read()\n",
    "\n",
    "print(output)\n",
    "#바이너리 데이터로 가져옴"
   ]
  },
  {
   "cell_type": "code",
   "execution_count": null,
   "id": "59b1a375",
   "metadata": {},
   "outputs": [],
   "source": [
    "# !pip install beautifulsoup4"
   ]
  },
  {
   "cell_type": "code",
   "execution_count": null,
   "id": "27757a72",
   "metadata": {},
   "outputs": [],
   "source": [
    "## import requests ## 은 다른 방법\n",
    "from urllib import request\n",
    "from bs4 import BeautifulSoup\n",
    "## url = \"https://movie.naver.com/movie/sdb/rank/rmovie.naver?sel=pnt&date=20220309\"\n",
    "## resp = requests.get(url)\n",
    "## target = request.urlopen(resp.text)\n",
    "target = request.urlopen(\"https://movie.naver.com/movie/sdb/rank/rmovie.naver?sel=pnt&date=20220309\")\n",
    "\n",
    "soup = BeautifulSoup(target,\"html.parser\")\n",
    "print(soup)\n",
    "# text = BeautifulSoup(output)\n",
    "# text\n",
    "for line in soup.findAll(tr):\n",
    "    print(line)"
   ]
  },
  {
   "cell_type": "code",
   "execution_count": null,
   "id": "fc4e60fb",
   "metadata": {},
   "outputs": [],
   "source": [
    "movie_title = []\n",
    "movie_point = []\n",
    "\n",
    "for line in soup.findAll('tr'):\n",
    "#     print(line)\n",
    "    title = line.find('div', class_='tit5')\n",
    "#     print(title)\n",
    "    if title :\n",
    "        movie_title.append(title.get_text().strip('\\n'))\n",
    "        print(movie_title)\n",
    "        #     point = line.find('td', class_='point')\n",
    "#     if point :\n",
    "#         movie_point.append(point.get_text())\n",
    "# # \n",
    "# for i, (title, point) in enumerate(zip(movie_title, movie_point)):\n",
    "#     print(i+1, title,':',point)\n",
    "    \n",
    "# print(movie_title)\n",
    "# print(movie_point)"
   ]
  },
  {
   "cell_type": "code",
   "execution_count": null,
   "id": "febda622",
   "metadata": {},
   "outputs": [],
   "source": [
    "target = request.urlopen(\"https://www.weather.go.kr/w/weather/forecast/mid-term.do\")\n",
    "\n",
    "soup = BeautifulSoup(target,\"html.parser\")\n",
    "\n",
    "print(soup)\n"
   ]
  },
  {
   "cell_type": "code",
   "execution_count": null,
   "id": "d84907bf",
   "metadata": {},
   "outputs": [],
   "source": [
    "local = []\n",
    "wtr = []\n",
    "rain = []\n",
    "time = []\n",
    "for line in soup.findAll('tr'):\n",
    "#     print(line)\n",
    "    w_local = line.find('td', rowspan='1')\n",
    "    if w_local :\n",
    "        local.append(w_local.get_text().strip('\\n'))\n",
    "#         print(local)\n",
    "    w_wtr = line.find('span')\n",
    "    if w_wtr :\n",
    "        wtr.append(w_wtr.get_text().strip('\\n'))\n",
    "#         print(wtr)\n",
    "for i, (w_local, w_wtr) in enumerate(zip(local, wtr)):\n",
    "    print(\"강수 : 확률\", w_local,':',w_wtr)\n",
    "    \n",
    "# print(local)\n"
   ]
  },
  {
   "cell_type": "code",
   "execution_count": null,
   "id": "f762ec3b",
   "metadata": {},
   "outputs": [],
   "source": [
    "print(local)"
   ]
  },
  {
   "cell_type": "code",
   "execution_count": 20,
   "id": "36ae9308",
   "metadata": {},
   "outputs": [],
   "source": [
    "from urllib import request\n",
    "from bs4 import BeautifulSoup\n",
    "url = \"https://www.weather.go.kr/w/weather/forecast/mid-term.do\"\n",
    "soup = request.urlopen(url)\n",
    "data = BeautifulSoup(soup)\n",
    "# data\n",
    "\n",
    "for table in data.findAll('table', class_='table-col'):\n",
    "#     print(table)\n",
    "    for line in table.findAll('tr'):\n",
    "\n",
    "        if line.find('td',class_=\"midterm-city\"):\n",
    "            print(line.find('td',class_=\"midterm-city\").get_text(),end='=>')\n",
    "            print(\"최저기온 : \",line.find('span',class_=\"tmn\").get_text(),end='')\n",
    "            print(\" 최고기온 : \",line.find('span',class_=\"tmx\").get_text())"
   ]
  },
  {
   "cell_type": "code",
   "execution_count": null,
   "id": "ff8f9765",
   "metadata": {},
   "outputs": [],
   "source": []
  }
 ],
 "metadata": {
  "kernelspec": {
   "display_name": "Python 3 (ipykernel)",
   "language": "python",
   "name": "python3"
  },
  "language_info": {
   "codemirror_mode": {
    "name": "ipython",
    "version": 3
   },
   "file_extension": ".py",
   "mimetype": "text/x-python",
   "name": "python",
   "nbconvert_exporter": "python",
   "pygments_lexer": "ipython3",
   "version": "3.9.7"
  }
 },
 "nbformat": 4,
 "nbformat_minor": 5
}
