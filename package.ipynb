{
 "cells": [
  {
   "cell_type": "code",
   "execution_count": 3,
   "id": "0f388957",
   "metadata": {},
   "outputs": [
    {
     "name": "stdout",
     "output_type": "stream",
     "text": [
      "a 모듈의 변수\n",
      "b 모듈의 변수\n"
     ]
    }
   ],
   "source": [
    "import test_package.module_a as a #패키지는 모듈의 상위개념 패키지.모듈명 or from 패키지 import 모듈명으로 불러옴\n",
    "import test_package.module_b as b\n",
    "\n",
    "print(a.variable_a)\n",
    "print(b.variable_b)"
   ]
  },
  {
   "cell_type": "code",
   "execution_count": 5,
   "id": "e24bad29",
   "metadata": {},
   "outputs": [],
   "source": [
    "from test_package import * #모든 모듈가져오기\n",
    "#__init__파일에 __all__ = [\"module_a\",\"module_b\"] 모듈명 넣어주어야 실행가능\n",
    "#3.3 버전 이전에는 이 파일이 있어야 다른 곳에서 참조할 수 있었다"
   ]
  }
 ],
 "metadata": {
  "kernelspec": {
   "display_name": "Python 3 (ipykernel)",
   "language": "python",
   "name": "python3"
  },
  "language_info": {
   "codemirror_mode": {
    "name": "ipython",
    "version": 3
   },
   "file_extension": ".py",
   "mimetype": "text/x-python",
   "name": "python",
   "nbconvert_exporter": "python",
   "pygments_lexer": "ipython3",
   "version": "3.9.7"
  }
 },
 "nbformat": 4,
 "nbformat_minor": 5
}
