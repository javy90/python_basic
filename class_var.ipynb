{
 "cells": [
  {
   "cell_type": "code",
   "execution_count": 5,
   "id": "fd0d96b9",
   "metadata": {},
   "outputs": [
    {
     "ename": "IndentationError",
     "evalue": "expected an indented block (Temp/ipykernel_5560/3602337403.py, line 22)",
     "output_type": "error",
     "traceback": [
      "\u001b[1;36m  File \u001b[1;32m\"C:\\Users\\82103\\AppData\\Local\\Temp/ipykernel_5560/3602337403.py\"\u001b[1;36m, line \u001b[1;32m22\u001b[0m\n\u001b[1;33m    while True:\u001b[0m\n\u001b[1;37m    ^\u001b[0m\n\u001b[1;31mIndentationError\u001b[0m\u001b[1;31m:\u001b[0m expected an indented block\n"
     ]
    }
   ],
   "source": [
    "# 클래스 변수 : 클래스명.변수명 접근 \n",
    "class Student:\n",
    "    # 클래스 변수\n",
    "    count = 0\n",
    "    students = []    \n",
    "    \n",
    "    def __init__(self, name, kor,eng, math):\n",
    "        self.name = name\n",
    "        self.kor = kor\n",
    "        self.eng = eng\n",
    "        self.math = math      \n",
    "        \n",
    "    def get_sum(self):\n",
    "        return self.kor + self.eng + self.math\n",
    "    def get_avg(self):\n",
    "        return self.get_sum() / 3    \n",
    "    def __str__(self):\n",
    "        return \"{}\\t{}\\t{:3.2f}\".format(self.name, self.get_sum(),self.get_avg())    \n",
    "\n",
    "def input_data():\n",
    "#     global students\n",
    "while True:\n",
    "        input_data = input(\"이름 성적 입력 (종료는 'q'): \").split()\n",
    "        if input_data[0] == 'q':\n",
    "            break\n",
    "        elif len(input_data) < 4:\n",
    "            continue\n",
    "        elif not input_data[1].isdigit():\n",
    "            continue\n",
    "\n",
    "        student = Student(input_data[0], int(input_data[1]), \n",
    "                         int(input_data[2]), int(input_data[3]))\n",
    "        Student.students.append(student)\n",
    "        Student.count += 1\n",
    "\n",
    "input_data()\n",
    "print(\"총 학생수 : \", Student.count)\n",
    "\n",
    "for i in range(Student.count):\n",
    "    print(str(Student.students[i]))"
   ]
  }
 ],
 "metadata": {
  "kernelspec": {
   "display_name": "Python 3 (ipykernel)",
   "language": "python",
   "name": "python3"
  },
  "language_info": {
   "codemirror_mode": {
    "name": "ipython",
    "version": 3
   },
   "file_extension": ".py",
   "mimetype": "text/x-python",
   "name": "python",
   "nbconvert_exporter": "python",
   "pygments_lexer": "ipython3",
   "version": "3.9.7"
  }
 },
 "nbformat": 4,
 "nbformat_minor": 5
}
