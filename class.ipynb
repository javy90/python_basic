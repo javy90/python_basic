{
 "cells": [
  {
   "cell_type": "code",
   "execution_count": null,
   "id": "9efd4025",
   "metadata": {},
   "outputs": [],
   "source": [
    "#[객체(object):여러 형태]를 [class:객체를 효율적으로 생성]로 메서드,멤버 함수와 변수\n",
    "# 인스턴스 : 생성자 사용하여 클래스 기반으로 만들어진 객체\n",
    "# 클래스명()에서 ()는 생성자일 때 붙임\n",
    "# class 선언과 생성자\n",
    "# class 클래스 이름\n",
    "#     def __init__(self, 추가적 매개변수): self는 object 자기자신 반드시 넣어줘야함\n",
    "\n"
   ]
  },
  {
   "cell_type": "code",
   "execution_count": null,
   "id": "ea6b30f8",
   "metadata": {},
   "outputs": [],
   "source": [
    "# class 선언\n",
    "class Student: #첫글자를 대문자로 하는게 좋다\n",
    "    def __init__(self, name, score):\n",
    "        self.name = name\n",
    "        self.score = score\n",
    "#class 생성\n",
    "a = Student('test',100)\n",
    "#class 인스턴스의 각 멤버 접근방법 인스턴스명.멤버명\n",
    "print(a.name, a.score)\n",
    "\n",
    "students =[\n",
    "    Student('홍길동',90),\n",
    "    Student('김철수',80)\n",
    "]\n",
    "# students[0].name으로 불러올 수 있다. 순서에서 어떤 인스턴스인지\n",
    "\n",
    "for student in students:\n",
    "    print(student.name, student.score)\n"
   ]
  },
  {
   "cell_type": "code",
   "execution_count": null,
   "id": "866348ac",
   "metadata": {},
   "outputs": [],
   "source": [
    "#클래스의 생성자, 소멸자\n",
    "class test:\n",
    "    def __init__(self):\n",
    "        print(\" 생성자 입니다.\")\n",
    "        \n",
    "    def __del__(self):\n",
    "        print(\" 소멸자 입니다.\")\n",
    "        \n",
    "        \n",
    "test = test()\n"
   ]
  },
  {
   "cell_type": "code",
   "execution_count": null,
   "id": "f14e7dea",
   "metadata": {},
   "outputs": [],
   "source": [
    "test"
   ]
  },
  {
   "cell_type": "code",
   "execution_count": null,
   "id": "7451b4ae",
   "metadata": {},
   "outputs": [],
   "source": [
    "# class 선언 : 멤버(변수), 메서드(함수) self는 *기본값*\n",
    "class Student:\n",
    "    def __init__(self, name, kor, eng, math):#가변,기변변수도 가능\n",
    "        self.name = name\n",
    "        self.kor = kor\n",
    "        self.eng = eng\n",
    "        self.math = math\n",
    "        \n",
    "    def get_sum(self):\n",
    "        return self.kor + self.eng + self.math\n",
    "    def get_avg(self):\n",
    "        return self.get_sum()/3\n",
    "    def to_string(self):\n",
    "        return \"{}\\t{}\\t{:3.2f}\".format(self.name, self.get_sum(),self.get_avg())\n",
    "    "
   ]
  },
  {
   "cell_type": "code",
   "execution_count": null,
   "id": "b910ad92",
   "metadata": {},
   "outputs": [],
   "source": [
    "students=[\n",
    "    Student(\"홍길동\",80,90,100),\n",
    "    Student(\"김철수\",88,95,100),\n",
    "    Student(\"개나리\",77,77,99)\n",
    "]\n",
    "\n",
    "print(\"이름\",\"총점\",\"평균\", sep= '\\t')\n",
    "for student in students:\n",
    "    print(student.to_string())\n",
    "\n",
    "# 속성에 접근하는 방법 students[0].매개변수값"
   ]
  },
  {
   "cell_type": "code",
   "execution_count": null,
   "id": "7ed83fc8",
   "metadata": {},
   "outputs": [],
   "source": [
    "# 객체 속성을 가질 수 있는 모든 것\n",
    "# 객체지향 :객체를 기반으로\n",
    "# 추상화 : 복잡한 자료,모듈,시스템등을 핵심적 기능 or 개념화\n",
    "# 인스터스 : 클래스를 기반으로 생성한 객체\n",
    "# class 와 함수의 구분을 위해 class는 첫글자를 대문자로"
   ]
  },
  {
   "cell_type": "code",
   "execution_count": null,
   "id": "d2470dbd",
   "metadata": {},
   "outputs": [],
   "source": [
    "#isinstance(인스턴스명, 클래스명) 이 인스턴스가 이 클래스냐\n",
    "\n",
    "isinstance(students[0], Student) #인스턴스가 지정한 클래스인지 확인\n",
    "type(students[0])"
   ]
  },
  {
   "cell_type": "code",
   "execution_count": null,
   "id": "8dcee408",
   "metadata": {},
   "outputs": [],
   "source": [
    "#isinstance() 활용 ->\n",
    "class Human:\n",
    "    def __init__(self):\n",
    "        self.const = 'human'\n",
    "        pass\n",
    "class Student(Human):\n",
    "    def __init__(self):\n",
    "        pass\n",
    "student = Student()\n",
    "\n",
    "#인스턴스 type과의 차이 확인하기 ex)인간(종,instance)이냐 신분(type)\n",
    "print(\"isinstance(student, Human)\",isinstance(student, Human))\n",
    "print(\"type(student)\",type(student) == Human)"
   ]
  },
  {
   "cell_type": "code",
   "execution_count": null,
   "id": "47e314d3",
   "metadata": {},
   "outputs": [],
   "source": [
    "#학생 클래스 선언\n",
    "class Student:\n",
    "    def study(self):\n",
    "        print(\"학생은 공부를 합니다.\")\n",
    "        \n",
    "#선생님 클래스 선언\n",
    "\n",
    "class Teacher:\n",
    "    def teach(self):\n",
    "        print(\"선생님은 공부를 가르칩니다.\")"
   ]
  },
  {
   "cell_type": "code",
   "execution_count": null,
   "id": "1c91e753",
   "metadata": {},
   "outputs": [],
   "source": [
    "classroom = [Student(),Student(), Teacher(),Student(),Teacher(), Teacher()]\n",
    "for person in classroom:\n",
    "    if isinstance(person, Student):\n",
    "        person.study()\n",
    "    else:\n",
    "        person.teach()"
   ]
  },
  {
   "cell_type": "code",
   "execution_count": null,
   "id": "43e6e662",
   "metadata": {},
   "outputs": [],
   "source": [
    "# __<함수명>__ 클래스 내부에 정의하면 자동 호출됨\n",
    "class "
   ]
  },
  {
   "cell_type": "code",
   "execution_count": null,
   "id": "00fc580e",
   "metadata": {},
   "outputs": [],
   "source": [
    "# __<함수명>__ 클래스 내부에 정의하면 자동 호출됨\n",
    "class Student:\n",
    "    def __init__(self, name, kor, eng, math):#가변,기변변수도 가능\n",
    "        self.name = name \n",
    "#name아닌 int나 str등은 불가 object는 변수값지정x class는 값입력가능\n",
    "        self.kor = kor\n",
    "        self.eng = eng\n",
    "        self.math = math\n",
    "        \n",
    "    def get_sum(self):\n",
    "        return self.kor + self.eng + self.math\n",
    "    def get_avg(self):\n",
    "        return self.get_sum()/3\n",
    "    def __str__(self):\n",
    "        return \"{}\\t{}\\t{:3.2f}\".format(self.name, self.get_sum(),self.get_avg())\n",
    "    def __eq__(self,value):\n",
    "        return self.get_sum == value.get_sum() \n",
    "    #정의시 함수명이 아닌 기호로 쓰며\n",
    "#   여러 변수를 비교하는 기준을 넣어주는 것!"
   ]
  },
  {
   "cell_type": "code",
   "execution_count": null,
   "id": "5c3b0275",
   "metadata": {},
   "outputs": [],
   "source": [
    "students=[\n",
    "    Student(\"홍길동\",80,90,100),\n",
    "    Student(\"김철수\",88,95,100),\n",
    "    Student(\"개나리\",77,77,99)\n",
    "]\n",
    "\n",
    "print(\"이름\",\"총점\",\"평균\", sep= '\\t')\n",
    "for student in students:\n",
    "    print(str(student))# 클래스내의 __함수__ 자동호출\n",
    "    \n",
    "students[2] == students[1] # False\n"
   ]
  },
  {
   "cell_type": "code",
   "execution_count": null,
   "id": "32d36ebf",
   "metadata": {},
   "outputs": [],
   "source": [
    "# class 클래스 이름: #접근시 클래스명.변수명으로 접근\n",
    "# 클래스 변수 = 값"
   ]
  },
  {
   "cell_type": "code",
   "execution_count": 18,
   "id": "ae905fd1",
   "metadata": {},
   "outputs": [
    {
     "name": "stdout",
     "output_type": "stream",
     "text": [
      "이름 성적 입력 (종료는 'q'): a 1 2 3\n"
     ]
    },
    {
     "ename": "TypeError",
     "evalue": "'list' object is not callable",
     "output_type": "error",
     "traceback": [
      "\u001b[1;31m---------------------------------------------------------------------------\u001b[0m",
      "\u001b[1;31mTypeError\u001b[0m                                 Traceback (most recent call last)",
      "\u001b[1;32m~\\AppData\\Local\\Temp/ipykernel_9264/2602845244.py\u001b[0m in \u001b[0;36m<module>\u001b[1;34m\u001b[0m\n\u001b[0;32m     23\u001b[0m         \u001b[1;32melif\u001b[0m \u001b[1;32mnot\u001b[0m \u001b[0minput_data\u001b[0m\u001b[1;33m[\u001b[0m\u001b[1;36m1\u001b[0m\u001b[1;33m]\u001b[0m\u001b[1;33m.\u001b[0m\u001b[0misdigit\u001b[0m\u001b[1;33m(\u001b[0m\u001b[1;33m)\u001b[0m\u001b[1;33m:\u001b[0m\u001b[1;33m\u001b[0m\u001b[1;33m\u001b[0m\u001b[0m\n\u001b[0;32m     24\u001b[0m             \u001b[1;32mcontinue\u001b[0m\u001b[1;33m\u001b[0m\u001b[1;33m\u001b[0m\u001b[0m\n\u001b[1;32m---> 25\u001b[1;33m         \u001b[0mstudent\u001b[0m \u001b[1;33m=\u001b[0m \u001b[0mStudent\u001b[0m\u001b[1;33m.\u001b[0m\u001b[0mstudents\u001b[0m\u001b[1;33m(\u001b[0m\u001b[0minput_data\u001b[0m\u001b[1;33m[\u001b[0m\u001b[1;36m0\u001b[0m\u001b[1;33m]\u001b[0m\u001b[1;33m,\u001b[0m\u001b[0mint\u001b[0m\u001b[1;33m(\u001b[0m\u001b[0minput_data\u001b[0m\u001b[1;33m[\u001b[0m\u001b[1;36m1\u001b[0m\u001b[1;33m]\u001b[0m\u001b[1;33m)\u001b[0m\u001b[1;33m,\u001b[0m\u001b[0mint\u001b[0m\u001b[1;33m(\u001b[0m\u001b[0minput_data\u001b[0m\u001b[1;33m[\u001b[0m\u001b[1;36m2\u001b[0m\u001b[1;33m]\u001b[0m\u001b[1;33m)\u001b[0m\u001b[1;33m,\u001b[0m\u001b[0mint\u001b[0m\u001b[1;33m(\u001b[0m\u001b[0minput_data\u001b[0m\u001b[1;33m[\u001b[0m\u001b[1;36m3\u001b[0m\u001b[1;33m]\u001b[0m\u001b[1;33m)\u001b[0m\u001b[1;33m)\u001b[0m\u001b[1;33m\u001b[0m\u001b[1;33m\u001b[0m\u001b[0m\n\u001b[0m\u001b[0;32m     26\u001b[0m         \u001b[0mStudent\u001b[0m\u001b[1;33m.\u001b[0m\u001b[0mcount\u001b[0m \u001b[1;33m+=\u001b[0m \u001b[1;36m1\u001b[0m\u001b[1;33m\u001b[0m\u001b[1;33m\u001b[0m\u001b[0m\n\u001b[0;32m     27\u001b[0m         \u001b[0mprint\u001b[0m\u001b[1;33m(\u001b[0m\u001b[0mstudent\u001b[0m\u001b[1;33m)\u001b[0m\u001b[1;33m\u001b[0m\u001b[1;33m\u001b[0m\u001b[0m\n",
      "\u001b[1;31mTypeError\u001b[0m: 'list' object is not callable"
     ]
    }
   ],
   "source": [
    "class Student:\n",
    "    count = 0\n",
    "    students = []\n",
    "    def __init__(self, name, kor, eng, math):\n",
    "        self.name = name \n",
    "        self.kor = kor\n",
    "        self.eng = eng\n",
    "        self.math = math\n",
    "    def get_sum(self):\n",
    "        return self.kor + self.eng + self.math\n",
    "    def get_avg(self):\n",
    "        return self.get_sum()/3\n",
    "    def __str__(self):\n",
    "        return \"{}\\t{}\\t{:3.2f}\".format(self.name, self.get_sum(),self.get_avg())\n",
    "def input_data():\n",
    "        global students\n",
    "while True:\n",
    "        input_data = input(\"이름 성적 입력 (종료는 'q'): \").split()\n",
    "        if input_data[0] == 'q':\n",
    "            break\n",
    "        elif len(input_data) < 4:\n",
    "            continue\n",
    "        elif not input_data[1].isdigit():\n",
    "            continue\n",
    "        student = Student.students(input_data[0],int(input_data[1]),int(input_data[2]),int(input_data[3]))\n",
    "        Student.count += 1\n",
    "        print(student)\n",
    "input_data()\n",
    "\n",
    "print(\"총 학생수 : \", Student.count)\n",
    "for i in range(Student.count):\n",
    "   print(str(Student.students[i]))\n",
    "\n",
    "for student in Student.students:\n",
    "   print(str(student))"
   ]
  },
  {
   "cell_type": "code",
   "execution_count": 9,
   "id": "2af40289",
   "metadata": {},
   "outputs": [],
   "source": [
    "# 클래스 함수의 정의\n",
    "#클래스 함수 호출\n",
    "# 클래스이름.함수명(매개변수)"
   ]
  },
  {
   "cell_type": "code",
   "execution_count": 12,
   "id": "3c14d06a",
   "metadata": {},
   "outputs": [
    {
     "name": "stdout",
     "output_type": "stream",
     "text": [
      "이름 성적 입력 (종료는 'q'): a 1 2 3\n"
     ]
    },
    {
     "ename": "TypeError",
     "evalue": "'list' object is not callable",
     "output_type": "error",
     "traceback": [
      "\u001b[1;31m---------------------------------------------------------------------------\u001b[0m",
      "\u001b[1;31mTypeError\u001b[0m                                 Traceback (most recent call last)",
      "\u001b[1;32m~\\AppData\\Local\\Temp/ipykernel_9264/653640790.py\u001b[0m in \u001b[0;36m<module>\u001b[1;34m\u001b[0m\n\u001b[0;32m      1\u001b[0m \u001b[0minput_data\u001b[0m \u001b[1;33m=\u001b[0m \u001b[0minput\u001b[0m\u001b[1;33m(\u001b[0m\u001b[1;34m\"이름 성적 입력 (종료는 'q'): \"\u001b[0m\u001b[1;33m)\u001b[0m\u001b[1;33m.\u001b[0m\u001b[0msplit\u001b[0m\u001b[1;33m(\u001b[0m\u001b[1;33m)\u001b[0m\u001b[1;33m\u001b[0m\u001b[1;33m\u001b[0m\u001b[0m\n\u001b[1;32m----> 2\u001b[1;33m \u001b[0minput_data\u001b[0m\u001b[1;33m(\u001b[0m\u001b[1;33m)\u001b[0m\u001b[1;33m\u001b[0m\u001b[1;33m\u001b[0m\u001b[0m\n\u001b[0m",
      "\u001b[1;31mTypeError\u001b[0m: 'list' object is not callable"
     ]
    }
   ],
   "source": [
    " input_data = input(\"이름 성적 입력 (종료는 'q'): \").split()\n",
    "input_data()"
   ]
  }
 ],
 "metadata": {
  "kernelspec": {
   "display_name": "Python 3 (ipykernel)",
   "language": "python",
   "name": "python3"
  },
  "language_info": {
   "codemirror_mode": {
    "name": "ipython",
    "version": 3
   },
   "file_extension": ".py",
   "mimetype": "text/x-python",
   "name": "python",
   "nbconvert_exporter": "python",
   "pygments_lexer": "ipython3",
   "version": "3.9.7"
  }
 },
 "nbformat": 4,
 "nbformat_minor": 5
}
