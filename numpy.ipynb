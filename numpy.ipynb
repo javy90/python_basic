{
 "cells": [
  {
   "cell_type": "code",
   "execution_count": 1,
   "id": "562757ec",
   "metadata": {},
   "outputs": [],
   "source": [
    "import numpy as np\n"
   ]
  },
  {
   "cell_type": "code",
   "execution_count": 3,
   "id": "c0650bd8",
   "metadata": {},
   "outputs": [
    {
     "name": "stdout",
     "output_type": "stream",
     "text": [
      "[1. 2. 3.] [ 5. 10. 15.]\n",
      "<class 'numpy.ndarray'> <class 'numpy.ndarray'>\n"
     ]
    }
   ],
   "source": [
    "#1차원 배열생성\n",
    "x1 = np.array([1.0, 2.0,3.0])\n",
    "\n",
    "x2 = np.array([5.0,10.0,15.0])\n",
    "print(x1, x2)\n",
    "print(type(x1), type(x2))"
   ]
  },
  {
   "cell_type": "code",
   "execution_count": 5,
   "id": "d0838b75",
   "metadata": {},
   "outputs": [
    {
     "name": "stdout",
     "output_type": "stream",
     "text": [
      "[[1. 2.]\n",
      " [3. 4.]] [[ 5. 10.]\n",
      " [15. 20.]]\n",
      "<class 'numpy.ndarray'> <class 'numpy.ndarray'>\n"
     ]
    }
   ],
   "source": [
    "#2차원 배열생성\n",
    "y1 = np.array([[1.0, 2.0],[3.0,4.0]])\n",
    "y2 = np.array([[5.0,10.0],[15.0,20.0]])\n",
    "print(y1, y2)\n",
    "print(type(y1), type(y2))"
   ]
  },
  {
   "cell_type": "code",
   "execution_count": 6,
   "id": "ceff0443",
   "metadata": {},
   "outputs": [
    {
     "name": "stdout",
     "output_type": "stream",
     "text": [
      "1.0\n",
      "1.0\n"
     ]
    }
   ],
   "source": [
    "# numpy 원소에 접근 : x1[0] -> 1.0\n",
    "print(x1[0])\n",
    "print(y1[0][0])"
   ]
  },
  {
   "cell_type": "code",
   "execution_count": 8,
   "id": "632e887d",
   "metadata": {},
   "outputs": [
    {
     "data": {
      "text/plain": [
       "array([1., 2., 3.])"
      ]
     },
     "execution_count": 8,
     "metadata": {},
     "output_type": "execute_result"
    }
   ],
   "source": [
    "a_list = [1.0, 2.0, 3.0] #리스트를 어레이로 변환\n",
    "a_np = np.array(a_list)\n",
    "a_np"
   ]
  },
  {
   "cell_type": "code",
   "execution_count": 19,
   "id": "0a3c6909",
   "metadata": {},
   "outputs": [
    {
     "name": "stdout",
     "output_type": "stream",
     "text": [
      "1 (15,) 15\n",
      "2 (4, 5) 20\n",
      "3 (2, 2, 5) 20 int32 4\n",
      "2 (4, 5) 20 float64 8\n"
     ]
    },
    {
     "data": {
      "text/plain": [
       "array([-5. , -4.5, -4. , -3.5, -3. , -2.5, -2. , -1.5, -1. , -0.5,  0. ,\n",
       "        0.5,  1. ,  1.5,  2. ,  2.5,  3. ,  3.5,  4. ,  4.5])"
      ]
     },
     "execution_count": 19,
     "metadata": {},
     "output_type": "execute_result"
    }
   ],
   "source": [
    "#numpy array 생성 #list,array 보다 높은 차원도 가능\n",
    "arr = np.arange(15)\n",
    "print(arr.ndim,arr.shape,arr.size)\n",
    "arr = np.arange(20).reshape(4,5) #reshape(행의갯수, 열의갯수)\n",
    "print(arr.ndim,arr.shape,arr.size)\n",
    "arr = np.arange(20).reshape(2,2,5)\n",
    "print(arr.ndim,arr.shape,arr.size,\n",
    "     arr.dtype.name, arr.dtype.itemsize)\n",
    "\n",
    "arr = np.arange(-5,5,0.5).reshape(4,5)\n",
    "print(arr.ndim,arr.shape,arr.size,\n",
    "     arr.dtype.name, arr.dtype.itemsize)\n",
    "arr.reshape(20)"
   ]
  },
  {
   "cell_type": "code",
   "execution_count": 35,
   "id": "27e3110e",
   "metadata": {},
   "outputs": [
    {
     "name": "stdout",
     "output_type": "stream",
     "text": [
      "[[5.e-324 5.e-324 5.e-324]\n",
      " [5.e-324 5.e-324 5.e-324]\n",
      " [5.e-324 5.e-324 5.e-324]\n",
      " [5.e-324 5.e-324 5.e-324]]\n",
      "[0. 0. 0. 0. 0.]\n",
      "int64 8\n",
      "['' '' '' '' '']\n",
      "<U4 16\n",
      "float64 8\n"
     ]
    }
   ],
   "source": [
    "#초기화하며 배열 생성 :array\n",
    "arr = np.empty((4,3)) # 4by3인 배열 생성 ->알 수 없는 값이 들어옴\n",
    "print(arr)\n",
    "\n",
    "#초기화하며 배열 생성 :array\n",
    "arr = np.zeros(5) # 1차원 배열 5행인 배열 초기값은 0\n",
    "print(arr)\n",
    "arr = np.zeros((2,3))\n",
    "arr\n",
    "\n",
    "#1로 초기화 하면서 배열 생성 메모리에 누적되어있으므로 초기화 해주어야함\n",
    "arr = np.ones( (3,4) , dtype='i8') #dtype = 'i' 정수로 ,'f' : 실수\n",
    "print(arr.dtype, arr.dtype.itemsize)\n",
    "\n",
    "a = np.zeros(5, dtype='U4') #U4 : 문자 문자 크기에 따라 다르게 설정해야함\n",
    "print(a)\n",
    "print(a.dtype, a.dtype.itemsize)\n",
    "\n",
    "arr = np.zeros(3)\n",
    "print(arr.dtype, arr.dtype.itemsize)\n",
    "\n",
    "a = np.ones_like(a, dtype='f') #or np.zeros_like(arr)"
   ]
  },
  {
   "cell_type": "code",
   "execution_count": 44,
   "id": "f14f0627",
   "metadata": {},
   "outputs": [
    {
     "name": "stdout",
     "output_type": "stream",
     "text": [
      "[ 6. 12. 18.]\n",
      "[ -4.  -8. -12.]\n",
      "[ 5. 20. 45.]\n",
      "[0.2 0.2 0.2]\n",
      "[[ 6. 12.]\n",
      " [18. 24.]]\n",
      "[[0. 0.]\n",
      " [2. 2.]]\n",
      "[[-1. -4.]\n",
      " [-3. -8.]]\n",
      "[[ 6.  7.  8.]\n",
      " [11. 12. 13.]\n",
      " [16. 17. 18.]]\n",
      "[1. 4. 9.]\n",
      "[False  True  True]\n",
      "[1. 2. 3. 4.]\n",
      "[[1. 2.]\n",
      " [3. 4.]]\n"
     ]
    }
   ],
   "source": [
    "# array 연산\n",
    "x1 = np.array([1.0,2.0,3.0])\n",
    "y1 = np.array([5.0,10.0,15.0])\n",
    "x2 = np.array([[1.0,2.0],[3.0,4.0]])\n",
    "y2 = np.array([[5.0,10.0],[15.0,20.0]])\n",
    "z1 = np.array([-1.0,-2.0])\n",
    "z2 = np.array([[5.0],[10.0],[15.0]])\n",
    "\n",
    "print(x1 + y1)\n",
    "print(x1 - y1)\n",
    "print(x1 * y1)\n",
    "print(x1 / y1)\n",
    "print(x2 + y2)\n",
    "print(x2 + z1)\n",
    "print(x2 * z1)\n",
    "print(x1 + z2)\n",
    "print(x1 ** 2)\n",
    "print(x1 >= 2)\n",
    "# print(x2 - y2)\n",
    "# print(x2 * y2)\n",
    "# print(x2 / y2)\n",
    "\n",
    "#배열의 형 변환\n",
    "print(x2.flatten()) #평탄화 시킴 : 모든 차수의 배열을 1차원으로\n",
    "print(x2.reshape(2,2))"
   ]
  },
  {
   "cell_type": "code",
   "execution_count": 45,
   "id": "03b91190",
   "metadata": {},
   "outputs": [
    {
     "name": "stdout",
     "output_type": "stream",
     "text": [
      "[[1. 2.]\n",
      " [3. 4.]]\n",
      "[-1. -2.]\n"
     ]
    }
   ],
   "source": [
    "print(x2)\n",
    "print(z1)"
   ]
  },
  {
   "cell_type": "code",
   "execution_count": 50,
   "id": "2a026db3",
   "metadata": {},
   "outputs": [
    {
     "name": "stdout",
     "output_type": "stream",
     "text": [
      "[ 0  1  4  9 16 25 36 49 64 81]\n",
      "4\n",
      "[ 9 16] None\n",
      "[81 64 49 36 25 16  9  4  1  0]\n",
      "[  0   1  -4   9 -16  25  36  49  64  81]\n",
      "12-310-152637506582\n",
      "[[ 1  2  3  4  5]\n",
      " [ 6  7  8  9 10]\n",
      " [11 12 13 14 15]\n",
      " [16 17 18 19 20]]\n",
      "7\n",
      "[[ 1  2  3  4  5]\n",
      " [ 6  7  8  9 10]]\n",
      "[ 6  7  8  9 10]\n",
      "[ 5 10 15 20]\n"
     ]
    }
   ],
   "source": [
    "# array 인덱싱, 슬라이싱, 반복\n",
    "a = np.arange(10)**2\n",
    "print(a)\n",
    "\n",
    "print(a[3:5],print(a[2]))\n",
    "print(a[::-1]) #start:end:-1(step) 뒤에서 부터 출력\n",
    "a[0:6:2] = -a[0:6:2] #from start to position 6 very element start:end:step\n",
    "print(a)\n",
    "\n",
    "#반복문\n",
    "for x in a:\n",
    " print(x+1,end='')\n",
    "print() \n",
    "a = np.arange(1,21,1).reshape(4,5)\n",
    "print(a) \n",
    "print(a[1,1])# 7 \n",
    "print(a[:2, :])#[행,열]\n",
    "print(a[1,])\n",
    "print(a[:,-1])# -는 마지막(행,열)을 의미\n"
   ]
  },
  {
   "cell_type": "code",
   "execution_count": 56,
   "id": "0aa03bd3",
   "metadata": {},
   "outputs": [
    {
     "name": "stdout",
     "output_type": "stream",
     "text": [
      "[0 1 2 3 4 5]\n",
      "[ 0.          0.84147098  0.90929743  0.14112001 -0.7568025  -0.95892427] [ 1.          0.54030231 -0.41614684 -0.9899925  -0.65364362  0.28366219]\n",
      "[-4.60517019 -2.81341072 -2.20727491 -1.83258146 -1.56064775 -1.34707365\n",
      " -1.17118298 -1.02165125 -0.89159812 -0.77652879 -0.67334455 -0.5798185\n",
      " -0.49429632 -0.41551544 -0.34249031 -0.27443685 -0.21072103 -0.15082289\n",
      " -0.09431068 -0.04082199]\n",
      "[10  5  6]\n",
      "[4 3 4]\n"
     ]
    }
   ],
   "source": [
    "#numpy의 일반함수\n",
    "a= np.arange(0,6,1)# array[0,1,2,3,4,5]\n",
    "print(a) \n",
    "print(np.sin(a),np.cos(a)) \n",
    "\n",
    "a= np.arange(0.01, 1, 0.05)\n",
    "print(np.log(a))\n",
    "\n",
    "a1 = np.array([10,3,4])\n",
    "a2 = np.array([4,5,6])\n",
    "print(np.maximum(a1,a2))\n",
    "print(np.minimum(a1,a2))"
   ]
  },
  {
   "cell_type": "code",
   "execution_count": 61,
   "id": "d91db432",
   "metadata": {},
   "outputs": [
    {
     "name": "stdout",
     "output_type": "stream",
     "text": [
      "17\n",
      "[49 54 58 69 52]\n",
      "[[0.06541378 0.90381894 0.32575614]\n",
      " [0.06210525 0.65961835 0.37429922]]\n",
      "[[ 0.58656367 -0.99003808 -0.14912287]\n",
      " [-0.5611042  -0.13648956 -0.14628453]]\n"
     ]
    }
   ],
   "source": [
    "print(np.sum(a1))\n",
    "np.random.seed() #같은 변수를 저장하고 같은 값을 불러옴\n",
    "print(np.random.choice(100,5))#0에서 100사이 임의의 5개 숫자\n",
    "print(np.random.rand(2,3))\n",
    "print(np.random.randn(2,3))"
   ]
  },
  {
   "cell_type": "code",
   "execution_count": 69,
   "id": "bdb97261",
   "metadata": {},
   "outputs": [
    {
     "name": "stdout",
     "output_type": "stream",
     "text": [
      "6\n",
      "1\n",
      "=== [2 0 1]\n"
     ]
    },
    {
     "data": {
      "text/plain": [
       "array([[0.1, 0.8, 0.2],\n",
       "       [0.3, 0.2, 0.5],\n",
       "       [0.9, 0.5, 0.3]])"
      ]
     },
     "execution_count": 69,
     "metadata": {},
     "output_type": "execute_result"
    }
   ],
   "source": [
    "a = np.array([6,1,3,2,4,5])\n",
    "print(a[np.argmax(a)]) #np.argmax(array) ->가장큰값의 인덱스 반환\n",
    "print(a[np.argmin(a)])\n",
    "\n",
    "a = np.array([[0.1,0.8,0.2],[0.3,0.2,0.5],[0.9,0.5,0.3]])\n",
    "print(\"===\",np.argmax(a, axis=0))\n",
    "a"
   ]
  },
  {
   "cell_type": "code",
   "execution_count": 80,
   "id": "f1b7c69e",
   "metadata": {},
   "outputs": [
    {
     "name": "stdout",
     "output_type": "stream",
     "text": [
      "[ 3  6  9 12 15 18]\n",
      "[ 1  5  9 13 17]\n",
      "[9]\n"
     ]
    }
   ],
   "source": [
    "x = np.arange(1,21,1)\n",
    "print(x[x%3==0])\n",
    "print(x[x%4==1])\n",
    "print(x[(x%4==1) & (x%3==0)])"
   ]
  },
  {
   "cell_type": "code",
   "execution_count": null,
   "id": "68da6b9a",
   "metadata": {},
   "outputs": [],
   "source": []
  }
 ],
 "metadata": {
  "kernelspec": {
   "display_name": "Python 3 (ipykernel)",
   "language": "python",
   "name": "python3"
  },
  "language_info": {
   "codemirror_mode": {
    "name": "ipython",
    "version": 3
   },
   "file_extension": ".py",
   "mimetype": "text/x-python",
   "name": "python",
   "nbconvert_exporter": "python",
   "pygments_lexer": "ipython3",
   "version": "3.9.7"
  }
 },
 "nbformat": 4,
 "nbformat_minor": 5
}
