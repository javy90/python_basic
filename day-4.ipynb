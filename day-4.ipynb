{
 "cells": [
  {
   "cell_type": "code",
   "execution_count": null,
   "id": "d8b0791c",
   "metadata": {},
   "outputs": [],
   "source": [
    "# tuple : 값의 수정이 불가능 : (,..)\n",
    "a_list = [1,2,3,4,5]\n",
    "a_tuple = (1,2,3,4,5)\n",
    "\n",
    "print(\"a_list\", a_list)\n",
    "print(\"a_tuple\", a_tuple)\n",
    "\n",
    "a_list[0] = 100\n",
    "#a_tuple[0] = 100 #tuple은 데이터 수정 불가"
   ]
  },
  {
   "cell_type": "code",
   "execution_count": null,
   "id": "f79b9be9",
   "metadata": {},
   "outputs": [],
   "source": [
    "a, b = 10,20\n",
    "print(a,b)\n",
    "print()\n",
    "b,a = a,b\n",
    "print(a,b)\n"
   ]
  },
  {
   "cell_type": "code",
   "execution_count": null,
   "id": "0551d1a0",
   "metadata": {},
   "outputs": [],
   "source": [
    "# 함수의 매개변수에 함수명 전달 가능\n",
    "def call_n_times(func, n):\n",
    "    for i in range(n):\n",
    "        func()\n",
    "def print_hello():\n",
    "    print(\"hello !!\")\n",
    "    \n",
    "call_n_times(print_hello, 3)"
   ]
  },
  {
   "cell_type": "code",
   "execution_count": null,
   "id": "02a88fcf",
   "metadata": {},
   "outputs": [],
   "source": [
    "# map(함수, 리스트), filter(함수, 리스트): 함수를 배개변수로 받는 내장함수\n",
    "def power(item):\n",
    "    return item * item\n",
    "def under_3(item):\n",
    "    return item < 3\n",
    "\n",
    "output_a = map(power, a_list)\n",
    "print(\"map() 실행결과\", list(output_a))\n",
    "\n",
    "output_b = filter(under_3, a_list)\n",
    "print(\"filter() 실행결과\", list(output_b))"
   ]
  },
  {
   "cell_type": "code",
   "execution_count": null,
   "id": "fd55e1cd",
   "metadata": {},
   "outputs": [],
   "source": [
    "power = lambda item : item * item # lambda 매개변수 : 리턴값 함수를 바로 선언\n",
    "under_3 = lambda item: item < 3\n",
    "\n",
    "output_a = map(power, a_list)\n",
    "print(\"map() 실행결과\", output_a)\n",
    "print(\"map() 실행결과\", list(output_a))\n",
    "\n",
    "output_b = filter(under_3, a_list)\n",
    "print(\"filter() 실행결과\", list(output_b))"
   ]
  },
  {
   "cell_type": "code",
   "execution_count": null,
   "id": "d4529e91",
   "metadata": {},
   "outputs": [],
   "source": [
    "output_a = map(lambda item : item * item,a_list)\n",
    "print(\"map() 실행결과\", output_a)\n",
    "print(\"map() 실행결과\", list(output_a))\n",
    "\n",
    "output_b = filter(lambda item: item < 3, a_list)\n",
    "print(\"filter() 실행결과\", list(output_b))"
   ]
  },
  {
   "cell_type": "code",
   "execution_count": null,
   "id": "e8e6eed0",
   "metadata": {},
   "outputs": [],
   "source": [
    "c=3\n",
    "d=4\n",
    "def ab_func(a, b):\n",
    "    return a < b\n",
    "print((lambda a,b,c,d:a+b+c+d)(a,b,c,d))\n",
    "print((lambda a,b:a<b)(a,b))"
   ]
  },
  {
   "cell_type": "code",
   "execution_count": null,
   "id": "871289a4",
   "metadata": {},
   "outputs": [],
   "source": [
    "a = 10\n",
    "b = 20\n",
    "# 두 수의 합을 구하는 lambda 함수를 구하세요\n",
    "def add_func(a,b):\n",
    "    return a+b\n",
    "\n",
    "print(add_func(a,b))\n",
    "\n",
    "print((lambda a,b: a+b)(a,b))\n",
    "print((lambda a,b: a-b)(a,b))\n",
    "print((lambda a,b: a*b)(a,b))\n"
   ]
  },
  {
   "cell_type": "code",
   "execution_count": null,
   "id": "18b7289b",
   "metadata": {},
   "outputs": [],
   "source": [
    "# 파일에 자료를 저장하기\n",
    "file = open(\"test.txt\",\"w\")\n",
    "file.write('file write \\n')\n",
    "file.close()"
   ]
  },
  {
   "cell_type": "code",
   "execution_count": null,
   "id": "126194b3",
   "metadata": {},
   "outputs": [],
   "source": [
    "#with를 사용하여 파일 핸드링\n",
    "with open(\"test1.txt\",\"w\") as file:\n",
    "    for i in range(3):\n",
    "        file.write('file write \\n')\n"
   ]
  },
  {
   "cell_type": "code",
   "execution_count": null,
   "id": "2cd6f9af",
   "metadata": {},
   "outputs": [],
   "source": [
    "#with를 사용하여 파일 핸드링\n",
    "with open(\"test1.txt\",\"r+\") as file:\n",
    "    for i in range(1):\n",
    "        file.write('file write222 \\n')"
   ]
  },
  {
   "cell_type": "code",
   "execution_count": null,
   "id": "a1b1b135",
   "metadata": {},
   "outputs": [],
   "source": [
    "with open(\"test1.txt\",\"r\") as file:\n",
    "#     content = file.read() #파일의 전체 내용 가져옴\n",
    "#     content = file.readline() # 한 라인씩 가져옴\n",
    "    content = file.readlines() #라인 단위로 전체 데이터 가져옴\n",
    "print(content)"
   ]
  },
  {
   "cell_type": "code",
   "execution_count": 8,
   "id": "7f711850",
   "metadata": {},
   "outputs": [
    {
     "name": "stdout",
     "output_type": "stream",
     "text": [
      "이름 성적 입력 (종료는 'q'): 10 오류 20 30\n",
      "입력형식 오류\n",
      "이름 성적 입력 (종료는 'q'): 10 20 30 40q\n",
      "입력형식 오류\n",
      "이름 성적 입력 (종료는 'q'): q\n",
      "file write end --- \n",
      "{'10': ['20', '30', '40']}\n"
     ]
    }
   ],
   "source": [
    "#이름, 국어, 영어, 수학 점수름 입력받아 파일(student.txt)에 저장한 후 (w)\n",
    "#저장은 홍길동,90,100,80\\n\n",
    "#저장된 파일에서 데이터를 라인 단위로 가져와서 딕셔너리에 저장(r)\n",
    "#데이터를 처리\n",
    "\n",
    "def input_data(file):\n",
    "    while True:\n",
    "        input_data = input(\"이름 성적 입력 (종료는 'q'): \").split()\n",
    "        if input_data[0] == 'q':\n",
    "            break\n",
    "        elif len(input_data) != 4: # 4개 미만은 입력은 받지만 \n",
    "            print(\"데이터초과\")\n",
    "            continue\n",
    "        elif not input_data[1].isdigit() or not input_data[2].isdigit() or not input_data[3].isdigit() : # 문자\n",
    "            print(\"입력형식 오류\")\n",
    "            continue\n",
    "        content = ','.join(input_data)\n",
    "        content += ',\\n'\n",
    "        file.write(content)\n",
    "\n",
    "def read_data(file):\n",
    "    global students\n",
    "    for data in file.readlines():\n",
    "        data_1 = data.split(',')\n",
    "        students[data_1[0]] = [data_1[1],data_1[2],data_1[3]]\n",
    "with open(\"student.txt\", \"w\") as file:\n",
    "    input_data(file)\n",
    "print(\"file write end --- \")\n",
    "\n",
    "\n",
    "with open(\"student.txt\", \"r\") as file:\n",
    "    read_data(file)\n",
    "print(students)\n"
   ]
  },
  {
   "cell_type": "code",
   "execution_count": 2,
   "id": "f3d2e14d",
   "metadata": {},
   "outputs": [
    {
     "name": "stdout",
     "output_type": "stream",
     "text": [
      "정수입력qkr\n"
     ]
    },
    {
     "ename": "ValueError",
     "evalue": "invalid literal for int() with base 10: 'qkr'",
     "output_type": "error",
     "traceback": [
      "\u001b[1;31m---------------------------------------------------------------------------\u001b[0m",
      "\u001b[1;31mValueError\u001b[0m                                Traceback (most recent call last)",
      "\u001b[1;32m~\\AppData\\Local\\Temp/ipykernel_8708/4271225154.py\u001b[0m in \u001b[0;36m<module>\u001b[1;34m\u001b[0m\n\u001b[0;32m      1\u001b[0m \u001b[1;31m# 프로그램 실행시 발생할 수 있는 오류 처리 : try: ~ except:\u001b[0m\u001b[1;33m\u001b[0m\u001b[1;33m\u001b[0m\u001b[0m\n\u001b[1;32m----> 2\u001b[1;33m \u001b[0minput_number\u001b[0m \u001b[1;33m=\u001b[0m \u001b[0mint\u001b[0m\u001b[1;33m(\u001b[0m\u001b[0minput\u001b[0m\u001b[1;33m(\u001b[0m\u001b[1;34m\"정수입력\"\u001b[0m\u001b[1;33m)\u001b[0m\u001b[1;33m)\u001b[0m\u001b[1;33m\u001b[0m\u001b[1;33m\u001b[0m\u001b[0m\n\u001b[0m\u001b[0;32m      3\u001b[0m \u001b[1;32mtry\u001b[0m\u001b[1;33m:\u001b[0m\u001b[1;33m\u001b[0m\u001b[1;33m\u001b[0m\u001b[0m\n\u001b[0;32m      4\u001b[0m     \u001b[0mprint\u001b[0m\u001b[1;33m(\u001b[0m\u001b[1;34m\"원의 반지름 :\"\u001b[0m\u001b[1;33m,\u001b[0m \u001b[0minput_number\u001b[0m\u001b[1;33m)\u001b[0m\u001b[1;33m\u001b[0m\u001b[1;33m\u001b[0m\u001b[0m\n\u001b[0;32m      5\u001b[0m     \u001b[0mprint\u001b[0m\u001b[1;33m(\u001b[0m\u001b[1;34m\"원의 둘레 :\"\u001b[0m\u001b[1;33m,\u001b[0m \u001b[0minput_number\u001b[0m \u001b[1;33m*\u001b[0m \u001b[1;36m2\u001b[0m \u001b[1;33m*\u001b[0m \u001b[1;36m3.14\u001b[0m\u001b[1;33m)\u001b[0m\u001b[1;33m\u001b[0m\u001b[1;33m\u001b[0m\u001b[0m\n",
      "\u001b[1;31mValueError\u001b[0m: invalid literal for int() with base 10: 'qkr'"
     ]
    }
   ],
   "source": [
    "# 프로그램 실행시 발생할 수 있는 오류 처리 : try: ~ except:\n",
    "input_number = int(input(\"정수입력\"))\n",
    "try:\n",
    "    print(\"원의 반지름 :\", input_number)\n",
    "    print(\"원의 둘레 :\", input_number * 2 * 3.14)\n",
    "    print(\"원의 넓이 :\", input_number * input_number * 3.14)\n",
    "except:\n",
    "    print('오류발생')\n",
    "# #     pass #또는 패스"
   ]
  },
  {
   "cell_type": "code",
   "execution_count": 23,
   "id": "cb31f310",
   "metadata": {},
   "outputs": [
    {
     "name": "stdout",
     "output_type": "stream",
     "text": [
      "['10', '20', 'test', '30'] 내부에 있는 숫자는 [10.0, 20.0, 30.0] 입니다.\n"
     ]
    }
   ],
   "source": [
    "list_input = ['10','20','test','30']\n",
    "\n",
    "list_number = []\n",
    "for item in list_input:\n",
    "    try:\n",
    "        list_number.append(float(item))\n",
    "    except:\n",
    "        pass\n",
    "print(\"{} 내부에 있는 숫자는 {} 입니다.\".format(list_input,list_number))"
   ]
  },
  {
   "cell_type": "code",
   "execution_count": 28,
   "id": "cf0f9a37",
   "metadata": {},
   "outputs": [
    {
     "name": "stdout",
     "output_type": "stream",
     "text": [
      "오류발생\n"
     ]
    }
   ],
   "source": [
    "#try: 예외발생코드\n",
    "#except: 예외처리코드\n",
    "#else: 정상일때 실행하고자 하는 코드\n",
    "#finally: 무조건 실행(에러가 발생되어도)\n",
    "\n",
    "try:\n",
    "    input_number = int(input(\"정수입력\"))\n",
    "except:\n",
    "    print('오류발생')\n",
    "else:\n",
    "    print(\"원의 반지름 :\", input_number)\n",
    "    print(\"원의 둘레 :\", input_number * 2 * 3.14)\n",
    "    print(\"원의 넓이 :\", input_number * input_number * 3.14)\n",
    "finally:\n",
    "    print(\"program end!!\")\n",
    "# #     pass #또는 패스"
   ]
  },
  {
   "cell_type": "code",
   "execution_count": 14,
   "id": "94b76f67",
   "metadata": {},
   "outputs": [
    {
     "name": "stdout",
     "output_type": "stream",
     "text": [
      "정수입력b\n",
      "invalid literal for int() with base 10: 'b'\n",
      "오류발생\n",
      "program end!!\n"
     ]
    }
   ],
   "source": [
    "\n",
    "#except Exception as e: Exception 을 e로 변환 Exception은 예외설명\n",
    "\n",
    "try:\n",
    "    input_number = int(input(\"정수입력\"))\n",
    "except Exception as e:\n",
    "    print(e)\n",
    "    print('오류발생')\n",
    "else:\n",
    "    print(\"원의 반지름 :\", input_number)\n",
    "    print(\"원의 둘레 :\", input_number * 2 * 3.14)\n",
    "    print(\"원의 넓이 :\", input_number * input_number * 3.14)\n",
    "finally:\n",
    "    print(\"program end!!\")"
   ]
  },
  {
   "cell_type": "code",
   "execution_count": 33,
   "id": "8a827966",
   "metadata": {},
   "outputs": [
    {
     "name": "stdout",
     "output_type": "stream",
     "text": [
      "<class 'Exception'>\n"
     ]
    }
   ],
   "source": [
    "try:\n",
    "    file = open('a.txt', \"w\")   \n",
    "    file.write('test')\n",
    "    aa += 2\n",
    "except Exception:\n",
    "    print(Exception)\n",
    "# finally:\n",
    "#     file.close()\n",
    "# file.close()"
   ]
  },
  {
   "cell_type": "code",
   "execution_count": 34,
   "id": "a05f8e2e",
   "metadata": {},
   "outputs": [
    {
     "name": "stdout",
     "output_type": "stream",
     "text": [
      "try 구문 실행\n",
      "finally 구문 실행\n"
     ]
    }
   ],
   "source": [
    "# finally 무조건 실행\n",
    "while True:\n",
    "    try:\n",
    "        print(\"try 구문 실행\")\n",
    "        break\n",
    "    except Exception:\n",
    "        print(\"except 구문 실행\")\n",
    "    finally:\n",
    "        print(\"finally 구문 실행\")\n"
   ]
  },
  {
   "cell_type": "code",
   "execution_count": 35,
   "id": "36cf6125",
   "metadata": {},
   "outputs": [],
   "source": [
    "# try:\n",
    "# except:\n",
    "# except:\n",
    "# except:\n",
    "#     .\n",
    "#     .\n",
    "#     . 방식으로 if ~ elif 방식으로 쓸 수 있다.\n",
    "\n",
    "    \n",
    "    "
   ]
  },
  {
   "cell_type": "code",
   "execution_count": null,
   "id": "e78bffb1",
   "metadata": {},
   "outputs": [],
   "source": [
    "math."
   ]
  }
 ],
 "metadata": {
  "kernelspec": {
   "display_name": "Python 3 (ipykernel)",
   "language": "python",
   "name": "python3"
  },
  "language_info": {
   "codemirror_mode": {
    "name": "ipython",
    "version": 3
   },
   "file_extension": ".py",
   "mimetype": "text/x-python",
   "name": "python",
   "nbconvert_exporter": "python",
   "pygments_lexer": "ipython3",
   "version": "3.9.7"
  }
 },
 "nbformat": 4,
 "nbformat_minor": 5
}
