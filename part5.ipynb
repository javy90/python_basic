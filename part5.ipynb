{
 "cells": [
  {
   "cell_type": "code",
   "execution_count": 1,
   "id": "0af8af32",
   "metadata": {},
   "outputs": [],
   "source": [
    "#데이터 사전처리\n",
    "#누락 데이터 처리 : 머신러닝 시 알고리즘 왜곡현상 발생\n",
    "#1. 누락 데이터 확인\n",
    "import pandas as pd\n",
    "import seaborn as sns"
   ]
  },
  {
   "cell_type": "code",
   "execution_count": 2,
   "id": "c8eec3c3",
   "metadata": {},
   "outputs": [
    {
     "name": "stdout",
     "output_type": "stream",
     "text": [
      "<class 'pandas.core.frame.DataFrame'>\n",
      "RangeIndex: 891 entries, 0 to 890\n",
      "Data columns (total 15 columns):\n",
      " #   Column       Non-Null Count  Dtype   \n",
      "---  ------       --------------  -----   \n",
      " 0   survived     891 non-null    int64   \n",
      " 1   pclass       891 non-null    int64   \n",
      " 2   sex          891 non-null    object  \n",
      " 3   age          714 non-null    float64 \n",
      " 4   sibsp        891 non-null    int64   \n",
      " 5   parch        891 non-null    int64   \n",
      " 6   fare         891 non-null    float64 \n",
      " 7   embarked     889 non-null    object  \n",
      " 8   class        891 non-null    category\n",
      " 9   who          891 non-null    object  \n",
      " 10  adult_male   891 non-null    bool    \n",
      " 11  deck         203 non-null    category\n",
      " 12  embark_town  889 non-null    object  \n",
      " 13  alive        891 non-null    object  \n",
      " 14  alone        891 non-null    bool    \n",
      "dtypes: bool(2), category(2), float64(2), int64(4), object(5)\n",
      "memory usage: 80.7+ KB\n"
     ]
    }
   ],
   "source": [
    "#titanic 데이터 load\n",
    "df=sns.load_dataset('titanic')\n",
    "df.info() #데이터프레임 데이터의 인덱스갯수와 컬럼별데이터 갯수 및 자료타입"
   ]
  },
  {
   "cell_type": "code",
   "execution_count": 3,
   "id": "91972768",
   "metadata": {},
   "outputs": [
    {
     "name": "stdout",
     "output_type": "stream",
     "text": [
      "891\n"
     ]
    }
   ],
   "source": [
    "#deck 컬럼이 누락데이터가 존재하는 것을 확인\n",
    "#deck 컬럼의 누락데이터가 몇개인지 확인 : value_count(dropna=False)\n",
    "df.deck.value_counts(dropna=False) #컬럼유일값들의 갯수,Nan 688개가 존재\n",
    "print(len(df)) #전체 행의 갯수 :891개"
   ]
  },
  {
   "cell_type": "code",
   "execution_count": 4,
   "id": "860ae11d",
   "metadata": {},
   "outputs": [
    {
     "name": "stdout",
     "output_type": "stream",
     "text": [
      "   survived  pclass    sex    age  sibsp  parch   fare  embarked  class  \\\n",
      "0     False   False  False  False  False  False  False     False  False   \n",
      "1     False   False  False  False  False  False  False     False  False   \n",
      "2     False   False  False  False  False  False  False     False  False   \n",
      "3     False   False  False  False  False  False  False     False  False   \n",
      "4     False   False  False  False  False  False  False     False  False   \n",
      "\n",
      "     who  adult_male   deck  embark_town  alive  alone  \n",
      "0  False       False   True        False  False  False  \n",
      "1  False       False  False        False  False  False  \n",
      "2  False       False   True        False  False  False  \n",
      "3  False       False  False        False  False  False  \n",
      "4  False       False   True        False  False  False  \n",
      "   survived  pclass   sex   age  sibsp  parch  fare  embarked  class   who  \\\n",
      "0      True    True  True  True   True   True  True      True   True  True   \n",
      "1      True    True  True  True   True   True  True      True   True  True   \n",
      "2      True    True  True  True   True   True  True      True   True  True   \n",
      "3      True    True  True  True   True   True  True      True   True  True   \n",
      "4      True    True  True  True   True   True  True      True   True  True   \n",
      "\n",
      "   adult_male   deck  embark_town  alive  alone  \n",
      "0        True  False         True   True   True  \n",
      "1        True   True         True   True   True  \n",
      "2        True  False         True   True   True  \n",
      "3        True   True         True   True   True  \n",
      "4        True  False         True   True   True  \n",
      "survived         0\n",
      "pclass           0\n",
      "sex              0\n",
      "age            177\n",
      "sibsp            0\n",
      "parch            0\n",
      "fare             0\n",
      "embarked         2\n",
      "class            0\n",
      "who              0\n",
      "adult_male       0\n",
      "deck           688\n",
      "embark_town      2\n",
      "alive            0\n",
      "alone            0\n",
      "dtype: int64\n"
     ]
    }
   ],
   "source": [
    "#누락데이터를 직접 찾는 방법 : .isnull(), .notnull()\n",
    "print(df.head().isnull()) #null이면 True, 아니면 False\n",
    "print(df.head().notnull()) #null이면 False, 아니면 True\n",
    "#누락데이터의 갯수 확인\n",
    "print(df.head(891).isnull().sum(axis=0))"
   ]
  },
  {
   "cell_type": "code",
   "execution_count": 5,
   "id": "c9f2c413",
   "metadata": {},
   "outputs": [
    {
     "name": "stdout",
     "output_type": "stream",
     "text": [
      "survived:0\n",
      "error :  <class 'Exception'>\n",
      "pclass:0\n",
      "error :  <class 'Exception'>\n",
      "sex:0\n",
      "error :  <class 'Exception'>\n",
      "age:177\n",
      "sibsp:0\n",
      "error :  <class 'Exception'>\n",
      "parch:0\n",
      "error :  <class 'Exception'>\n",
      "fare:0\n",
      "error :  <class 'Exception'>\n",
      "embarked:2\n",
      "class:0\n",
      "error :  <class 'Exception'>\n",
      "who:0\n",
      "error :  <class 'Exception'>\n",
      "adult_male:0\n",
      "error :  <class 'Exception'>\n",
      "deck:688\n",
      "embark_town:2\n",
      "alive:0\n",
      "error :  <class 'Exception'>\n",
      "alone:0\n",
      "error :  <class 'Exception'>\n"
     ]
    }
   ],
   "source": [
    "#isnull(), value_counts() -> 각 열의 값에 누락변수가 몇개씩 존재하는지 확인\n",
    "miss_df = df.isnull()\n",
    "\n",
    "for col in miss_df.columns:\n",
    "    miss_count = miss_df[col].value_counts() # 각 열의 Nan 갯수\n",
    "#if문은 nan데이터로 오류가 남 따라서 try구문을 쓰는게 좋음    \n",
    "    try:\n",
    "        print(\"{}:{}\".format(col, miss_count[True]))\n",
    "    except:\n",
    "        print(\"{}:{}\".format(col, 0))\n",
    "        print(\"error : \",Exception)\n",
    "#if, while, for문 복습 및 return"
   ]
  },
  {
   "cell_type": "code",
   "execution_count": 6,
   "id": "1173579a",
   "metadata": {},
   "outputs": [
    {
     "data": {
      "text/plain": [
       "Index(['survived', 'pclass', 'sex', 'age', 'sibsp', 'parch', 'fare',\n",
       "       'embarked', 'class', 'who', 'adult_male', 'embark_town', 'alive',\n",
       "       'alone'],\n",
       "      dtype='object')"
      ]
     },
     "execution_count": 6,
     "metadata": {},
     "output_type": "execute_result"
    }
   ],
   "source": [
    "# 누락데이터처리\n",
    "# Nan 데이터가 500개 이상인 컬럼을 삭제\n",
    "df_thresh = df.dropna(axis=1, thresh=500) # axis=1, thresh 열삭제 #ais=0, how any0행삭제\n",
    "df_thresh.columns # deck 컬럼이 삭제된 자료"
   ]
  },
  {
   "cell_type": "code",
   "execution_count": 7,
   "id": "a8dcad7e",
   "metadata": {},
   "outputs": [
    {
     "name": "stdout",
     "output_type": "stream",
     "text": [
      "Index(['survived', 'pclass', 'sex', 'age', 'sibsp', 'parch', 'fare',\n",
      "       'embarked', 'class', 'who', 'adult_male', 'embark_town', 'alive',\n",
      "       'alone'],\n",
      "      dtype='object')\n",
      "<class 'pandas.core.frame.DataFrame'>\n",
      "Int64Index: 712 entries, 0 to 890\n",
      "Data columns (total 14 columns):\n",
      " #   Column       Non-Null Count  Dtype   \n",
      "---  ------       --------------  -----   \n",
      " 0   survived     712 non-null    int64   \n",
      " 1   pclass       712 non-null    int64   \n",
      " 2   sex          712 non-null    object  \n",
      " 3   age          712 non-null    float64 \n",
      " 4   sibsp        712 non-null    int64   \n",
      " 5   parch        712 non-null    int64   \n",
      " 6   fare         712 non-null    float64 \n",
      " 7   embarked     712 non-null    object  \n",
      " 8   class        712 non-null    category\n",
      " 9   who          712 non-null    object  \n",
      " 10  adult_male   712 non-null    bool    \n",
      " 11  embark_town  712 non-null    object  \n",
      " 12  alive        712 non-null    object  \n",
      " 13  alone        712 non-null    bool    \n",
      "dtypes: bool(2), category(1), float64(2), int64(4), object(5)\n",
      "memory usage: 69.0+ KB\n",
      "None\n"
     ]
    }
   ],
   "source": [
    "#age 컬럼에 Nan이 있는 인덱스(행)을 제거\n",
    "# df_age = df.dropna(axis=0, how='any')\n",
    "df_age = df_thresh.dropna(axis=0, how='any')\n",
    "print(df_age.columns)\n",
    "print(df_age.info())"
   ]
  },
  {
   "cell_type": "code",
   "execution_count": 8,
   "id": "42ee0c3e",
   "metadata": {},
   "outputs": [
    {
     "name": "stdout",
     "output_type": "stream",
     "text": [
      "0    22.000000\n",
      "1    38.000000\n",
      "2    26.000000\n",
      "3    35.000000\n",
      "4    35.000000\n",
      "5    29.699118\n",
      "6    54.000000\n",
      "7     2.000000\n",
      "8    27.000000\n",
      "9    14.000000\n",
      "Name: age, dtype: float64\n",
      "0    22.0\n",
      "1    38.0\n",
      "2    26.0\n",
      "3    35.0\n",
      "4    35.0\n",
      "5    80.0\n",
      "6    54.0\n",
      "7     2.0\n",
      "8    27.0\n",
      "9    14.0\n",
      "Name: age, dtype: float64\n"
     ]
    }
   ],
   "source": [
    "#누락 데이터 치환 .fillna(값, inplace=True), .fillna(method='ffill'또는'bfill')\n",
    "df['age'].head(10)\n",
    "\n",
    "#age의 누락 데이터에 age의 평균값으로 치환\n",
    "df_age=df.copy()\n",
    "mean_age = df_age['age'].mean(axis=0)\n",
    "df_age['age'].fillna(mean_age, inplace=True)\n",
    "\n",
    "print(df_age['age'].head(10))\n",
    "#age의 누락 데이터에 age의 최댓값으로 치환\n",
    "df_age=df.copy()\n",
    "max_age = df_age['age'].max(axis=0)\n",
    "df_age['age'].fillna(max_age, inplace=True)\n",
    "print(df_age['age'].head(10))"
   ]
  },
  {
   "cell_type": "code",
   "execution_count": 9,
   "id": "7215eda0",
   "metadata": {},
   "outputs": [
    {
     "data": {
      "text/plain": [
       "825     Queenstown\n",
       "826    Southampton\n",
       "827      Cherbourg\n",
       "828     Queenstown\n",
       "829     Queenstown\n",
       "Name: embark_town, dtype: object"
      ]
     },
     "execution_count": 9,
     "metadata": {},
     "output_type": "execute_result"
    }
   ],
   "source": [
    "# embark_town : 825행부터 829 행까지 정보를 확인\n",
    "df['embark_town'][825:830]\n",
    "\n",
    "# 가장 빈번하게 나오는 값으로 대체 \n",
    "most_data = df['embark_town'].value_counts(dropna=True).idxmax() # dropna=True -> default\n",
    "#dropna=False 옵션(default는 True)을 주면 누락데이터(NaN)의 개수도 함께 카운트\n",
    "#누락데이터가 가장 많으면 누락데이터로 대체 할 수있음 따라서 기본은\n",
    "#누락데이터는 카운터하지않는 것이 좋다.\n",
    "df_embark = df.copy()\n",
    "df_embark['embark_town'].fillna(most_data, inplace=True)\n",
    "df_embark['embark_town'][825:830]\n",
    "\n",
    "# 근접한 (이웃) 값으로 대체 \n",
    "df_embark = df.copy()\n",
    "df_embark['embark_town'].fillna(method='ffill', inplace=True)\n",
    "df_embark['embark_town'][825:830]"
   ]
  },
  {
   "cell_type": "code",
   "execution_count": 10,
   "id": "85ac55f4",
   "metadata": {},
   "outputs": [
    {
     "name": "stdout",
     "output_type": "stream",
     "text": [
      "  c1  c2  c3\n",
      "0  a   1   1\n",
      "1  a   1   1\n",
      "2  b   1   2\n",
      "3  a   2   2\n",
      "4  b   2   2\n",
      "\n",
      "0    False\n",
      "1     True\n",
      "2    False\n",
      "3    False\n",
      "4    False\n",
      "dtype: bool\n",
      "0    False\n",
      "1     True\n",
      "2     True\n",
      "3    False\n",
      "4     True\n",
      "Name: c2, dtype: bool\n",
      "  c1  c2  c3\n",
      "0  a   1   1\n",
      "2  b   1   2\n",
      "3  a   2   2\n",
      "4  b   2   2\n",
      "\n",
      "  c1  c2  c3\n",
      "0  a   1   1\n",
      "2  b   1   2\n",
      "3  a   2   2\n"
     ]
    }
   ],
   "source": [
    "df = pd.DataFrame({'c1':['a','a','b','a','b'],\n",
    "              'c2':[1,1,1,2,2],\n",
    "              'c3':[1,1,2,2,2]})\n",
    "print(df);print()\n",
    "#중복데이터 확인 .duplicatead(), True or False를 반환\n",
    "print(df.duplicated())\n",
    "print(df['c2'].duplicated())\n",
    "                    \n",
    "#중복 행 데이터를 제거 : .drop_duplicates()\n",
    "df2=df.drop_duplicates()\n",
    "print(df2);print()\n",
    "             \n",
    "#컬럼을 기준으로 중복 행 제거\n",
    "df3=df.drop_duplicates(subset=['c2','c3'])\n",
    "print(df3)\n",
    "                    \n",
    "                    \n",
    "                    "
   ]
  },
  {
   "cell_type": "code",
   "execution_count": 11,
   "id": "031c5e10",
   "metadata": {},
   "outputs": [
    {
     "name": "stdout",
     "output_type": "stream",
     "text": [
      "<class 'pandas.core.frame.DataFrame'>\n",
      "RangeIndex: 891 entries, 0 to 890\n",
      "Data columns (total 15 columns):\n",
      " #   Column       Non-Null Count  Dtype   \n",
      "---  ------       --------------  -----   \n",
      " 0   survived     891 non-null    int64   \n",
      " 1   pclass       891 non-null    int64   \n",
      " 2   sex          891 non-null    object  \n",
      " 3   age          714 non-null    float64 \n",
      " 4   sibsp        891 non-null    int64   \n",
      " 5   parch        891 non-null    int64   \n",
      " 6   fare         891 non-null    float64 \n",
      " 7   embarked     889 non-null    object  \n",
      " 8   class        891 non-null    category\n",
      " 9   who          891 non-null    object  \n",
      " 10  adult_male   891 non-null    bool    \n",
      " 11  deck         203 non-null    category\n",
      " 12  embark_town  889 non-null    object  \n",
      " 13  alive        891 non-null    object  \n",
      " 14  alone        891 non-null    bool    \n",
      "dtypes: bool(2), category(2), float64(2), int64(4), object(5)\n",
      "memory usage: 80.7+ KB\n",
      "<class 'pandas.core.frame.DataFrame'>\n",
      "Int64Index: 714 entries, 0 to 890\n",
      "Data columns (total 15 columns):\n",
      " #   Column       Non-Null Count  Dtype   \n",
      "---  ------       --------------  -----   \n",
      " 0   survived     714 non-null    int64   \n",
      " 1   pclass       714 non-null    int64   \n",
      " 2   sex          714 non-null    object  \n",
      " 3   age          714 non-null    float64 \n",
      " 4   sibsp        714 non-null    int64   \n",
      " 5   parch        714 non-null    int64   \n",
      " 6   fare         714 non-null    float64 \n",
      " 7   embarked     712 non-null    object  \n",
      " 8   class        714 non-null    category\n",
      " 9   who          714 non-null    object  \n",
      " 10  adult_male   714 non-null    bool    \n",
      " 11  deck         184 non-null    category\n",
      " 12  embark_town  712 non-null    object  \n",
      " 13  alive        714 non-null    object  \n",
      " 14  alone        714 non-null    bool    \n",
      "dtypes: bool(2), category(2), float64(2), int64(4), object(5)\n",
      "memory usage: 70.2+ KB\n",
      "<class 'pandas.core.frame.DataFrame'>\n",
      "Int64Index: 714 entries, 0 to 890\n",
      "Data columns (total 15 columns):\n",
      " #   Column       Non-Null Count  Dtype   \n",
      "---  ------       --------------  -----   \n",
      " 0   survived     714 non-null    int64   \n",
      " 1   pclass       714 non-null    int64   \n",
      " 2   sex          714 non-null    object  \n",
      " 3   age          714 non-null    float64 \n",
      " 4   sibsp        714 non-null    int64   \n",
      " 5   parch        714 non-null    int64   \n",
      " 6   fare         714 non-null    float64 \n",
      " 7   embarked     712 non-null    object  \n",
      " 8   class        714 non-null    category\n",
      " 9   who          714 non-null    object  \n",
      " 10  adult_male   714 non-null    bool    \n",
      " 11  deck         184 non-null    category\n",
      " 12  embark_town  712 non-null    object  \n",
      " 13  alive        714 non-null    object  \n",
      " 14  alone        714 non-null    bool    \n",
      "dtypes: bool(2), category(2), float64(2), int64(4), object(5)\n",
      "memory usage: 70.2+ KB\n"
     ]
    },
    {
     "data": {
      "text/plain": [
       "<bound method DataFrame.info of      survived  pclass     sex   age  sibsp  parch     fare embarked   class  \\\n",
       "0           0       3    male  22.0      1      0   7.2500        S   Third   \n",
       "1           1       1  female  38.0      1      0  71.2833        C   First   \n",
       "2           1       3  female  26.0      0      0   7.9250        S   Third   \n",
       "3           1       1  female  35.0      1      0  53.1000        S   First   \n",
       "4           0       3    male  35.0      0      0   8.0500        S   Third   \n",
       "..        ...     ...     ...   ...    ...    ...      ...      ...     ...   \n",
       "883         0       2    male  28.0      0      0  10.5000        S  Second   \n",
       "885         0       3  female  39.0      0      5  29.1250        Q   Third   \n",
       "887         1       1  female  19.0      0      0  30.0000        S   First   \n",
       "889         1       1    male  26.0      0      0  30.0000        C   First   \n",
       "890         0       3    male  32.0      0      0   7.7500        Q   Third   \n",
       "\n",
       "       who  adult_male deck  embark_town alive  alone  \n",
       "0      man        True  NaN  Southampton    no  False  \n",
       "1    woman       False    C    Cherbourg   yes  False  \n",
       "2    woman       False  NaN  Southampton   yes   True  \n",
       "3    woman       False    C  Southampton   yes  False  \n",
       "4      man        True  NaN  Southampton    no   True  \n",
       "..     ...         ...  ...          ...   ...    ...  \n",
       "883    man        True  NaN  Southampton    no   True  \n",
       "885  woman       False  NaN   Queenstown    no  False  \n",
       "887  woman       False    B  Southampton   yes   True  \n",
       "889    man        True    C    Cherbourg   yes   True  \n",
       "890    man        True  NaN   Queenstown    no   True  \n",
       "\n",
       "[678 rows x 15 columns]>"
      ]
     },
     "execution_count": 11,
     "metadata": {},
     "output_type": "execute_result"
    }
   ],
   "source": [
    "# titanic 데이터를 load 해서\n",
    "titanic = sns.load_dataset('titanic')\n",
    "titanic.info()\n",
    "#age 컬럼이 Nan이면 행을 삭제하고 age 컬럼을 기준으로 중복을 제거한 데/프 추출\n",
    "titanic =titanic.dropna(subset=['age'], how='any',axis=0)\n",
    "titanic.info()\n",
    "#age 컬럼을 기준으로 중복을 제거한 데이터 프레임을 추출\n",
    "titanic_age =titanic.drop_duplicates(subset=['age'])\n",
    "titanic.info()\n",
    "\n",
    "#모든 칼럼의 값이 같은 행을 제거\n",
    "titanic_dup = titanic.drop_duplicates()\n",
    "titanic_dup.info"
   ]
  },
  {
   "cell_type": "code",
   "execution_count": 33,
   "id": "1f645edd",
   "metadata": {},
   "outputs": [],
   "source": [
    "#데이터 표준화\n",
    "# dataset/auto-mpg.csv 파일을 load\n",
    "df = pd.read_csv('./dataset/auto-mpg.csv', header=None)\n",
    "\n",
    "# column명을 지정\n",
    "df.columns=['mpg','cylinders', 'displacement','horsepower','weight','acceleration',\n",
    "           'model year', 'origin','name']"
   ]
  },
  {
   "cell_type": "code",
   "execution_count": 29,
   "id": "6d6a8a8b",
   "metadata": {},
   "outputs": [
    {
     "data": {
      "text/html": [
       "<div>\n",
       "<style scoped>\n",
       "    .dataframe tbody tr th:only-of-type {\n",
       "        vertical-align: middle;\n",
       "    }\n",
       "\n",
       "    .dataframe tbody tr th {\n",
       "        vertical-align: top;\n",
       "    }\n",
       "\n",
       "    .dataframe thead th {\n",
       "        text-align: right;\n",
       "    }\n",
       "</style>\n",
       "<table border=\"1\" class=\"dataframe\">\n",
       "  <thead>\n",
       "    <tr style=\"text-align: right;\">\n",
       "      <th></th>\n",
       "      <th>mpg</th>\n",
       "      <th>cylinders</th>\n",
       "      <th>displacement</th>\n",
       "      <th>horespower</th>\n",
       "      <th>weight</th>\n",
       "      <th>acceleration</th>\n",
       "      <th>model year</th>\n",
       "      <th>origin</th>\n",
       "      <th>name</th>\n",
       "      <th>kpl</th>\n",
       "    </tr>\n",
       "  </thead>\n",
       "  <tbody>\n",
       "    <tr>\n",
       "      <th>0</th>\n",
       "      <td>18.0</td>\n",
       "      <td>8</td>\n",
       "      <td>307.0</td>\n",
       "      <td>130.0</td>\n",
       "      <td>3504.0</td>\n",
       "      <td>12.0</td>\n",
       "      <td>70</td>\n",
       "      <td>1</td>\n",
       "      <td>chevrolet chevelle malibu</td>\n",
       "      <td>7.65</td>\n",
       "    </tr>\n",
       "    <tr>\n",
       "      <th>1</th>\n",
       "      <td>15.0</td>\n",
       "      <td>8</td>\n",
       "      <td>350.0</td>\n",
       "      <td>165.0</td>\n",
       "      <td>3693.0</td>\n",
       "      <td>11.5</td>\n",
       "      <td>70</td>\n",
       "      <td>1</td>\n",
       "      <td>buick skylark 320</td>\n",
       "      <td>6.38</td>\n",
       "    </tr>\n",
       "    <tr>\n",
       "      <th>2</th>\n",
       "      <td>18.0</td>\n",
       "      <td>8</td>\n",
       "      <td>318.0</td>\n",
       "      <td>150.0</td>\n",
       "      <td>3436.0</td>\n",
       "      <td>11.0</td>\n",
       "      <td>70</td>\n",
       "      <td>1</td>\n",
       "      <td>plymouth satellite</td>\n",
       "      <td>7.65</td>\n",
       "    </tr>\n",
       "  </tbody>\n",
       "</table>\n",
       "</div>"
      ],
      "text/plain": [
       "    mpg  cylinders  displacement horespower  weight  acceleration  model year  \\\n",
       "0  18.0          8         307.0      130.0  3504.0          12.0          70   \n",
       "1  15.0          8         350.0      165.0  3693.0          11.5          70   \n",
       "2  18.0          8         318.0      150.0  3436.0          11.0          70   \n",
       "\n",
       "   origin                       name   kpl  \n",
       "0       1  chevrolet chevelle malibu  7.65  \n",
       "1       1          buick skylark 320  6.38  \n",
       "2       1         plymouth satellite  7.65  "
      ]
     },
     "execution_count": 29,
     "metadata": {},
     "output_type": "execute_result"
    }
   ],
   "source": [
    "df.head()\n",
    "\n",
    "# mpg 단위 : 갤런/mile -> 리터/km\n",
    "mpg_to_kpl = 1.60934 / 3.78541 #(0.425)\n",
    "df['kpl'] = df['mpg'] * mpg_to_kpl\n",
    "df.head(3)\n",
    "\n",
    "df['kpl'] = df['kpl'].round(2) #소수점 미만 2자리에서 반올림\n",
    "df.head(3)"
   ]
  },
  {
   "cell_type": "code",
   "execution_count": null,
   "id": "03df32ea",
   "metadata": {},
   "outputs": [],
   "source": [
    "#데이터의 자료형을 변환 분석을 위해선 숫자로 바꿔주어야 함\n",
    "print(df.dtypes)\n",
    "df.horsepower.dtype # 문자를 float으로 변환\n",
    "# df['horsepower'] = df['horsepower'].astype('float') # error 발생\n",
    "#horsepower의 자료를 검색, unique() 중복을 제거한 유일값을 나열 \n",
    "df['horsepower'].unique()"
   ]
  },
  {
   "cell_type": "code",
   "execution_count": 38,
   "id": "0167047a",
   "metadata": {
    "scrolled": false
   },
   "outputs": [
    {
     "data": {
      "text/plain": [
       "array(['130.0', '165.0', '150.0', '140.0', '198.0', '220.0', '215.0',\n",
       "       '225.0', '190.0', '170.0', '160.0', '95.00', '97.00', '85.00',\n",
       "       '88.00', '46.00', '87.00', '90.00', '113.0', '200.0', '210.0',\n",
       "       '193.0', nan, '100.0', '105.0', '175.0', '153.0', '180.0', '110.0',\n",
       "       '72.00', '86.00', '70.00', '76.00', '65.00', '69.00', '60.00',\n",
       "       '80.00', '54.00', '208.0', '155.0', '112.0', '92.00', '145.0',\n",
       "       '137.0', '158.0', '167.0', '94.00', '107.0', '230.0', '49.00',\n",
       "       '75.00', '91.00', '122.0', '67.00', '83.00', '78.00', '52.00',\n",
       "       '61.00', '93.00', '148.0', '129.0', '96.00', '71.00', '98.00',\n",
       "       '115.0', '53.00', '81.00', '79.00', '120.0', '152.0', '102.0',\n",
       "       '108.0', '68.00', '58.00', '149.0', '89.00', '63.00', '48.00',\n",
       "       '66.00', '139.0', '103.0', '125.0', '133.0', '138.0', '135.0',\n",
       "       '142.0', '77.00', '62.00', '132.0', '84.00', '64.00', '74.00',\n",
       "       '116.0', '82.00'], dtype=object)"
      ]
     },
     "execution_count": 38,
     "metadata": {},
     "output_type": "execute_result"
    }
   ],
   "source": [
    "#'?'문자를 처리 -># df['horsepower'] = df['horsepower'].astype('float')\n",
    "#1. '?'(특수문자) -> Nan으로 치환\n",
    "#2. Nan 데이터 행을 삭제\n",
    "#3. 데이터의 형을 변환\n",
    "import numpy as np\n",
    "#1. '?' -> numpy.nan으로 대체 .replace(바꿀값, 대체할값, inplace=True)\n",
    "df['horsepower'].replace('?',np.nan, inplace = True)\n",
    "\n",
    "df['horsepower'].unique() #'?'-> nan으로 수정확인"
   ]
  },
  {
   "cell_type": "code",
   "execution_count": 40,
   "id": "d18137cc",
   "metadata": {},
   "outputs": [
    {
     "name": "stdout",
     "output_type": "stream",
     "text": [
      "['130.0' '165.0' '150.0' '140.0' '198.0' '220.0' '215.0' '225.0' '190.0'\n",
      " '170.0' '160.0' '95.00' '97.00' '85.00' '88.00' '46.00' '87.00' '90.00'\n",
      " '113.0' '200.0' '210.0' '193.0' '100.0' '105.0' '175.0' '153.0' '180.0'\n",
      " '110.0' '72.00' '86.00' '70.00' '76.00' '65.00' '69.00' '60.00' '80.00'\n",
      " '54.00' '208.0' '155.0' '112.0' '92.00' '145.0' '137.0' '158.0' '167.0'\n",
      " '94.00' '107.0' '230.0' '49.00' '75.00' '91.00' '122.0' '67.00' '83.00'\n",
      " '78.00' '52.00' '61.00' '93.00' '148.0' '129.0' '96.00' '71.00' '98.00'\n",
      " '115.0' '53.00' '81.00' '79.00' '120.0' '152.0' '102.0' '108.0' '68.00'\n",
      " '58.00' '149.0' '89.00' '63.00' '48.00' '66.00' '139.0' '103.0' '125.0'\n",
      " '133.0' '138.0' '135.0' '142.0' '77.00' '62.00' '132.0' '84.00' '64.00'\n",
      " '74.00' '116.0' '82.00']\n"
     ]
    }
   ],
   "source": [
    "#2. Nan 데이터 행을 삭제\n",
    "df.dropna(subset=['horsepower'], axis=0, inplace =True)\n",
    "print(df['horsepower'].unique())"
   ]
  },
  {
   "cell_type": "code",
   "execution_count": 44,
   "id": "ce7ecd9a",
   "metadata": {},
   "outputs": [
    {
     "name": "stdout",
     "output_type": "stream",
     "text": [
      "0      130.0\n",
      "1      165.0\n",
      "2      150.0\n",
      "3      150.0\n",
      "4      140.0\n",
      "       ...  \n",
      "393     86.0\n",
      "394     52.0\n",
      "395     84.0\n",
      "396     79.0\n",
      "397     82.0\n",
      "Name: horsepower, Length: 392, dtype: float64\n"
     ]
    }
   ],
   "source": [
    "#데이터타입을 'object'->'float'으로 변경\n",
    "df['horsepower'] = df['horsepower'].astype('float')\n",
    "print(df['horsepower'])"
   ]
  },
  {
   "cell_type": "code",
   "execution_count": 52,
   "id": "0863f9cb",
   "metadata": {},
   "outputs": [
    {
     "name": "stdout",
     "output_type": "stream",
     "text": [
      "['1' '3' '2']\n",
      "['1' '3' '2']\n"
     ]
    }
   ],
   "source": [
    "print(df['origin'].unique())\n",
    "df['origin'].replace({1:'USA',2:'EU',3:'JPN'},inplace=True)\n",
    "print(df['origin'].unique())"
   ]
  },
  {
   "cell_type": "code",
   "execution_count": 46,
   "id": "11249198",
   "metadata": {},
   "outputs": [
    {
     "name": "stdout",
     "output_type": "stream",
     "text": [
      "category\n",
      "object\n"
     ]
    }
   ],
   "source": [
    "#문자형을 범주형으로 변환\n",
    "df['origin'] =df['origin'].astype('category')\n",
    "print(df['origin'].dtype)\n",
    "\n",
    "#범주형을 문자형으로 변환\n",
    "df['origin'] =df['origin'].astype('str')\n",
    "print(df['origin'].dtype)\n",
    "\n",
    "#문제 'model year'의 데이터 타입과 데이터를 확인해 보시고 범주형으로 형변환"
   ]
  },
  {
   "cell_type": "code",
   "execution_count": 51,
   "id": "75557fc7",
   "metadata": {},
   "outputs": [
    {
     "name": "stdout",
     "output_type": "stream",
     "text": [
      "category \n",
      " 52     71\n",
      "23     70\n",
      "282    79\n",
      "Name: model year, dtype: category\n",
      "Categories (13, int64): [70, 71, 72, 73, ..., 79, 80, 81, 82]\n",
      "category \n",
      " 122    73\n",
      "102    73\n",
      "193    76\n",
      "Name: model year, dtype: category\n",
      "Categories (13, int64): [70, 71, 72, 73, ..., 79, 80, 81, 82]\n"
     ]
    }
   ],
   "source": [
    "print(df['model year'].dtype,'\\n', df['model year'].sample(3))\n",
    "df['model year']=df['model year'].astype('category')\n",
    "print(df['model year'].dtype,'\\n', df['model year'].sample(3))"
   ]
  }
 ],
 "metadata": {
  "kernelspec": {
   "display_name": "Python 3 (ipykernel)",
   "language": "python",
   "name": "python3"
  },
  "language_info": {
   "codemirror_mode": {
    "name": "ipython",
    "version": 3
   },
   "file_extension": ".py",
   "mimetype": "text/x-python",
   "name": "python",
   "nbconvert_exporter": "python",
   "pygments_lexer": "ipython3",
   "version": "3.9.7"
  }
 },
 "nbformat": 4,
 "nbformat_minor": 5
}
